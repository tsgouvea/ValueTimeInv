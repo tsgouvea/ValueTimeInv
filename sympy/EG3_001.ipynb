{
 "cells": [
  {
   "cell_type": "code",
   "execution_count": 1,
   "outputs": [],
   "source": [
    "from sympy import *\n",
    "from sympy.printing.pycode import NumPyPrinter\n",
    "from IPython.display import display\n",
    "init_printing(use_latex='mathjax')\n",
    "\n",
    "# pB, K, d, b, r, eg, rho, tau, m = symbols('P(B), K, d, beta, r, E(G|K), rho, tau, m')\n",
    "k,m,rho,tau,d,beta,Q = symbols('k,m,rho,tau,d,beta,Q')"
   ],
   "metadata": {
    "collapsed": false,
    "pycharm": {
     "name": "#%%\n",
     "is_executing": false
    }
   }
  },
  {
   "cell_type": "code",
   "execution_count": 18,
   "outputs": [
    {
     "data": {
      "text/plain": "                                      -d \n                                      ───\n                                       β \nQ⋅(m - ρ⋅(d + τ))⋅(sign(-d + k) + 1)⋅ℯ   \n─────────────────────────────────────────\n                   2⋅β                   ",
      "text/latex": "$\\displaystyle \\frac{Q \\left(m - \\rho \\left(d + \\tau\\right)\\right) \\left(\\operatorname{sign}{\\left(- d + k \\right)} + 1\\right) e^{- \\frac{d}{\\beta}}}{2 \\beta}$"
     },
     "metadata": {},
     "output_type": "display_data"
    },
    {
     "data": {
      "text/plain": "                                         -d  \n                                         ─── \n           ⎛  Q⋅(sign(-d + k) + 1)    ⎞   β  \n-ρ⋅(k + τ)⋅⎜- ──────────────────── + 1⎟⋅ℯ    \n           ⎝           2              ⎠      \n─────────────────────────────────────────────\n                      β                      ",
      "text/latex": "$\\displaystyle - \\frac{\\rho \\left(k + \\tau\\right) \\left(- \\frac{Q \\left(\\operatorname{sign}{\\left(- d + k \\right)} + 1\\right)}{2} + 1\\right) e^{- \\frac{d}{\\beta}}}{\\beta}$"
     },
     "metadata": {},
     "output_type": "display_data"
    },
    {
     "data": {
      "text/plain": "∞                                              \n⌠                                              \n⎮                                       -d     \n⎮                                       ───    \n⎮                                        β     \n⎮ -Q⋅(m - ρ⋅(d + τ))⋅(sign(d - k) - 1)⋅ℯ       \n⎮ ────────────────────────────────────────── dd\n⎮                    2⋅β                       \n⌡                                              \n0                                              ",
      "text/latex": "$\\displaystyle \\int\\limits_{0}^{\\infty} \\left(- \\frac{Q \\left(m - \\rho \\left(d + \\tau\\right)\\right) \\left(\\operatorname{sign}{\\left(d - k \\right)} - 1\\right) e^{- \\frac{d}{\\beta}}}{2 \\beta}\\right)\\, dd$"
     },
     "metadata": {},
     "output_type": "display_data"
    },
    {
     "data": {
      "text/plain": "∞                                              \n⌠                                              \n⎮                                       -d     \n⎮                                       ───    \n⎮                                        β     \n⎮ -ρ⋅(k + τ)⋅(Q⋅(sign(d - k) - 1) + 2)⋅ℯ       \n⎮ ────────────────────────────────────────── dd\n⎮                    2⋅β                       \n⌡                                              \n0                                              ",
      "text/latex": "$\\displaystyle \\int\\limits_{0}^{\\infty} \\left(- \\frac{\\rho \\left(k + \\tau\\right) \\left(Q \\left(\\operatorname{sign}{\\left(d - k \\right)} - 1\\right) + 2\\right) e^{- \\frac{d}{\\beta}}}{2 \\beta}\\right)\\, dd$"
     },
     "metadata": {},
     "output_type": "display_data"
    }
   ],
   "source": [
    "eqR1 = (m-rho* (tau+d)) * (Q*(sign(k-d)+1)/2) * exp(-d/beta)/beta\n",
    "eqR0 = (-rho* (tau+k)) * (1-Q*(sign(k-d)+1)/2) * exp(-d/beta)/beta\n",
    "display(eqR1)\n",
    "display(eqR0)\n",
    "intR1 = Integral(eqR1,(d,0, oo))\n",
    "intR0 = Integral(eqR0,(d,0, oo))\n",
    "display(simplify(intR1))\n",
    "display(simplify(intR0))"
   ],
   "metadata": {
    "collapsed": false,
    "pycharm": {
     "name": "#%%\n",
     "is_executing": false
    }
   }
  },
  {
   "cell_type": "code",
   "execution_count": 20,
   "outputs": [
    {
     "data": {
      "text/plain": "    ⎛∞              ∞               ∞                         ∞               \n    ⎜⌠              ⌠               ⌠                         ⌠               \n    ⎜⎮     -d       ⎮      -d       ⎮    -d                   ⎮      -d       \n    ⎜⎮     ───      ⎮      ───      ⎮    ───                  ⎮      ───      \n    ⎜⎮      β       ⎮       β       ⎮     β                   ⎮       β       \n- Q⋅⎜⎮ -m⋅ℯ    dd + ⎮ d⋅ρ⋅ℯ    dd + ⎮ m⋅ℯ   ⋅sign(d - k) dd + ⎮ ρ⋅τ⋅ℯ    dd + \n    ⎜⌡              ⌡               ⌡                         ⌡               \n    ⎝0              0               0                         0               \n──────────────────────────────────────────────────────────────────────────────\n                                                                              \n\n∞                            ∞                         ⎞             ⎛∞       \n⌠                            ⌠                         ⎟             ⎜⌠       \n⎮       -d                   ⎮       -d                ⎟             ⎜⎮    -d \n⎮       ───                  ⎮       ───               ⎟             ⎜⎮    ───\n⎮        β                   ⎮        β                ⎟             ⎜⎮     β \n⎮ -d⋅ρ⋅ℯ   ⋅sign(d - k) dd + ⎮ -ρ⋅τ⋅ℯ   ⋅sign(d - k) dd⎟ + ρ⋅(k + τ)⋅⎜⎮ Q⋅ℯ   \n⌡                            ⌡                         ⎟             ⎜⌡       \n0                            0                         ⎠             ⎝0       \n──────────────────────────────────────────────────────────────────────────────\n                     2⋅β                                                      \n\n      ∞                          ∞           ⎞\n      ⌠                          ⌠           ⎟\n      ⎮     -d                   ⎮     -d    ⎟\n      ⎮     ───                  ⎮     ───   ⎟\n      ⎮      β                   ⎮      β    ⎟\n dd + ⎮ -Q⋅ℯ   ⋅sign(d - k) dd + ⎮ -2⋅ℯ    dd⎟\n      ⌡                          ⌡           ⎟\n      0                          0           ⎠\n──────────────────────────────────────────────\n                                              ",
      "text/latex": "$\\displaystyle \\frac{- Q \\left(\\int\\limits_{0}^{\\infty} \\left(- m e^{- \\frac{d}{\\beta}}\\right)\\, dd + \\int\\limits_{0}^{\\infty} d \\rho e^{- \\frac{d}{\\beta}}\\, dd + \\int\\limits_{0}^{\\infty} m e^{- \\frac{d}{\\beta}} \\operatorname{sign}{\\left(d - k \\right)}\\, dd + \\int\\limits_{0}^{\\infty} \\rho \\tau e^{- \\frac{d}{\\beta}}\\, dd + \\int\\limits_{0}^{\\infty} \\left(- d \\rho e^{- \\frac{d}{\\beta}} \\operatorname{sign}{\\left(d - k \\right)}\\right)\\, dd + \\int\\limits_{0}^{\\infty} \\left(- \\rho \\tau e^{- \\frac{d}{\\beta}} \\operatorname{sign}{\\left(d - k \\right)}\\right)\\, dd\\right) + \\rho \\left(k + \\tau\\right) \\left(\\int\\limits_{0}^{\\infty} Q e^{- \\frac{d}{\\beta}}\\, dd + \\int\\limits_{0}^{\\infty} \\left(- Q e^{- \\frac{d}{\\beta}} \\operatorname{sign}{\\left(d - k \\right)}\\right)\\, dd + \\int\\limits_{0}^{\\infty} \\left(- 2 e^{- \\frac{d}{\\beta}}\\right)\\, dd\\right)}{2 \\beta}$"
     },
     "metadata": {},
     "output_type": "display_data"
    }
   ],
   "source": [
    "E = simplify(intR1.doit()+intR0.doit()) if 'E' not in locals() else E\n",
    "display(E)"
   ],
   "metadata": {
    "collapsed": false,
    "pycharm": {
     "name": "#%%\n",
     "is_executing": false
    }
   }
  },
  {
   "cell_type": "code",
   "execution_count": 30,
   "outputs": [
    {
     "data": {
      "text/plain": "                                        -k \n                                        ───\n                                         β \n-β⋅ρ + m - ρ⋅τ + (β⋅ρ + k⋅ρ - m + ρ⋅τ)⋅ℯ   ",
      "text/latex": "$\\displaystyle - \\beta \\rho + m - \\rho \\tau + \\left(\\beta \\rho + k \\rho - m + \\rho \\tau\\right) e^{- \\frac{k}{\\beta}}$"
     },
     "metadata": {},
     "output_type": "display_data"
    },
    {
     "data": {
      "text/plain": "        ∞                        \n        ⌠                        \n        ⎮                  -d    \n        ⎮                  ───   \n        ⎮                   β    \n(Q - 1)⋅⎮ (d⋅ρ - m + ρ⋅τ)⋅ℯ    dd\n        ⌡                        \n        k                        \n─────────────────────────────────\n                β                ",
      "text/latex": "$\\displaystyle \\frac{\\left(Q - 1\\right) \\int\\limits_{k}^{\\infty} \\left(d \\rho - m + \\rho \\tau\\right) e^{- \\frac{d}{\\beta}}\\, dd}{\\beta}$"
     },
     "metadata": {},
     "output_type": "display_data"
    },
    {
     "data": {
      "text/plain": "                          -k \n                          ───\n                           β \n-k⋅ρ - ρ⋅τ + (k⋅ρ + ρ⋅τ)⋅ℯ   ",
      "text/latex": "$\\displaystyle - k \\rho - \\rho \\tau + \\left(k \\rho + \\rho \\tau\\right) e^{- \\frac{k}{\\beta}}$"
     },
     "metadata": {},
     "output_type": "display_data"
    },
    {
     "data": {
      "text/plain": "                  ∞        \n                  ⌠        \n                  ⎮  -d    \n                  ⎮  ───   \n                  ⎮   β    \nρ⋅(Q - 1)⋅(k + τ)⋅⎮ ℯ    dd\n                  ⌡        \n                  k        \n───────────────────────────\n             β             ",
      "text/latex": "$\\displaystyle \\frac{\\rho \\left(Q - 1\\right) \\left(k + \\tau\\right) \\int\\limits_{k}^{\\infty} e^{- \\frac{d}{\\beta}}\\, dd}{\\beta}$"
     },
     "metadata": {},
     "output_type": "display_data"
    }
   ],
   "source": [
    "eqR1lower = integrate((m-rho* (tau+d)) * exp(-d/beta)/beta,(d,0,k))\n",
    "display(eqR1lower)\n",
    "eqR1upper = integrate((m-rho* (tau+d)) * (1-Q) * exp(-d/beta)/beta,(d,k,oo))\n",
    "display(eqR1upper)\n",
    "\n",
    "eqR0lower = integrate((-rho* (tau+k)) * exp(-d/beta)/beta,(d,0,k))\n",
    "display(eqR0lower)\n",
    "eqR0upper = integrate((-rho* (tau+k)) * (1-Q) * exp(-d/beta)/beta,(d,k,oo))\n",
    "display(eqR0upper)"
   ],
   "metadata": {
    "collapsed": false,
    "pycharm": {
     "name": "#%%\n",
     "is_executing": false
    }
   }
  },
  {
   "cell_type": "code",
   "execution_count": 32,
   "outputs": [
    {
     "data": {
      "text/plain": "⎛                                                                      ⎛      \n⎜                                                                      ⎜      \n⎜                            k                                         ⎜      \n⎜                            ─                                         ⎜      \n⎜                            β                                         ⎜      \n⎜β⋅(-β⋅ρ - k⋅ρ + m - 2⋅ρ⋅τ)⋅ℯ  + β⋅(β⋅ρ + 2⋅k⋅ρ - m + 2⋅ρ⋅τ) + (Q - 1)⋅⎜ρ⋅(k +\n⎜                                                                      ⎜      \n⎝                                                                      ⎝      \n──────────────────────────────────────────────────────────────────────────────\n                                                                β             \n\n    ∞           ∞                        ⎞   ⎞     \n    ⌠           ⌠                        ⎟   ⎟     \n    ⎮  -d       ⎮                  -d    ⎟  k⎟  -k \n    ⎮  ───      ⎮                  ───   ⎟  ─⎟  ───\n    ⎮   β       ⎮                   β    ⎟  β⎟   β \n τ)⋅⎮ ℯ    dd + ⎮ (d⋅ρ - m + ρ⋅τ)⋅ℯ    dd⎟⋅ℯ ⎟⋅ℯ   \n    ⌡           ⌡                        ⎟   ⎟     \n    k           k                        ⎠   ⎠     \n───────────────────────────────────────────────────\n                                                   ",
      "text/latex": "$\\displaystyle \\frac{\\left(\\beta \\left(- \\beta \\rho - k \\rho + m - 2 \\rho \\tau\\right) e^{\\frac{k}{\\beta}} + \\beta \\left(\\beta \\rho + 2 k \\rho - m + 2 \\rho \\tau\\right) + \\left(Q - 1\\right) \\left(\\rho \\left(k + \\tau\\right) \\int\\limits_{k}^{\\infty} e^{- \\frac{d}{\\beta}}\\, dd + \\int\\limits_{k}^{\\infty} \\left(d \\rho - m + \\rho \\tau\\right) e^{- \\frac{d}{\\beta}}\\, dd\\right) e^{\\frac{k}{\\beta}}\\right) e^{- \\frac{k}{\\beta}}}{\\beta}$"
     },
     "metadata": {},
     "output_type": "display_data"
    }
   ],
   "source": [
    "E = eqR1lower.doit() + eqR1upper.doit() + eqR0lower.doit() + eqR0upper.doit()\n",
    "display(simplify(E))"
   ],
   "metadata": {
    "collapsed": false,
    "pycharm": {
     "name": "#%%\n",
     "is_executing": false
    }
   }
  }
 ],
 "metadata": {
  "language_info": {
   "codemirror_mode": {
    "name": "ipython",
    "version": 2
   },
   "file_extension": ".py",
   "mimetype": "text/x-python",
   "name": "python",
   "nbconvert_exporter": "python",
   "pygments_lexer": "ipython2",
   "version": "2.7.6"
  },
  "kernelspec": {
   "name": "python3",
   "language": "python",
   "display_name": "Python 3"
  },
  "pycharm": {
   "stem_cell": {
    "cell_type": "raw",
    "source": [],
    "metadata": {
     "collapsed": false
    }
   }
  }
 },
 "nbformat": 4,
 "nbformat_minor": 0
}