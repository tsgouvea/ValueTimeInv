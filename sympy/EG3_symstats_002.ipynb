{
 "cells": [
  {
   "cell_type": "code",
   "execution_count": 1,
   "outputs": [],
   "source": [
    "from sympy import *\n",
    "from sympy.stats import *\n",
    "from sympy.printing.pycode import NumPyPrinter\n",
    "from IPython.display import display\n",
    "\n",
    "# pB, K, d, b, r, eg, rho, tau, m = symbols('P(B), K, d, beta, r, E(G|K), rho, tau, m')\n",
    "m,rho,tau,d,beta,k,q = symbols('m,rho,tau,d,beta,k,Q',real=True,positive=True)\n",
    "# B,R,k = symbols('B, R, k',real=True)"
   ],
   "metadata": {
    "collapsed": false,
    "pycharm": {
     "name": "#%%\n",
     "is_executing": false
    }
   }
  },
  {
   "cell_type": "code",
   "execution_count": 2,
   "outputs": [
    {
     "data": {
      "text/plain": "Integral(d*exp(-d/beta)/beta, (d, 0, k))",
      "text/latex": "$\\displaystyle \\int\\limits_{0}^{k} \\frac{d e^{- \\frac{d}{\\beta}}}{\\beta}\\, dd$"
     },
     "metadata": {},
     "output_type": "display_data"
    },
    {
     "data": {
      "text/plain": "beta + (-beta - k)*exp(-k/beta)",
      "text/latex": "$\\displaystyle \\beta + \\left(- \\beta - k\\right) e^{- \\frac{k}{\\beta}}$"
     },
     "metadata": {},
     "output_type": "display_data"
    }
   ],
   "source": [
    "defi = Integral(d*exp(-d/beta)/beta,(d,0,k))\n",
    "display(defi)\n",
    "soldefi = expand(defi.doit())\n",
    "soldefi = collect(soldefi,(exp(-k/beta)))\n",
    "display(soldefi)\n",
    "# soldefi = expand(defi.doit())\n",
    "# display(soldefi)\n",
    "# soldefi = collect(soldefi,(1-exp(-k/beta)))\n",
    "# display(soldefi)\n",
    "# soldefi = collect(soldefi,beta)\n",
    "# display(soldefi)"
   ],
   "metadata": {
    "collapsed": false,
    "pycharm": {
     "name": "#%%\n",
     "is_executing": false
    }
   }
  },
  {
   "cell_type": "code",
   "execution_count": 3,
   "outputs": [
    {
     "data": {
      "text/plain": "Q*Integral((m - rho*(d + tau))*exp(-d/beta)/beta, (d, 0, k)) - rho*(k + tau)*((1 - Q)*Integral(exp(-d/beta)/beta, (d, 0, k)) + Integral(exp(-d/beta)/beta, (d, k, oo)))",
      "text/latex": "$\\displaystyle Q \\int\\limits_{0}^{k} \\frac{\\left(m - \\rho \\left(d + \\tau\\right)\\right) e^{- \\frac{d}{\\beta}}}{\\beta}\\, dd - \\rho \\left(k + \\tau\\right) \\left(\\left(1 - Q\\right) \\int\\limits_{0}^{k} \\frac{e^{- \\frac{d}{\\beta}}}{\\beta}\\, dd + \\int\\limits_{k}^{\\infty} \\frac{e^{- \\frac{d}{\\beta}}}{\\beta}\\, dd\\right)$"
     },
     "metadata": {},
     "output_type": "display_data"
    },
    {
     "data": {
      "text/plain": "Q*(-beta*rho + beta*rho*exp(-k/beta) + k*rho + m - m*exp(-k/beta)) - k*rho - rho*tau",
      "text/latex": "$\\displaystyle Q \\left(- \\beta \\rho + \\beta \\rho e^{- \\frac{k}{\\beta}} + k \\rho + m - m e^{- \\frac{k}{\\beta}}\\right) - k \\rho - \\rho \\tau$"
     },
     "metadata": {},
     "output_type": "display_data"
    }
   ],
   "source": [
    "temp = q * (Integral((m-rho*(tau+d))*exp(-d/beta)/beta,(d,0,k))) - rho*(tau+k)*((1-q)*Integral(exp(-d/beta)/beta,(d,0,k)) + Integral(exp(-d/beta)/beta,(d,k,oo)))\n",
    "display(temp)\n",
    "temp2 = temp.doit()\n",
    "display(collect(expand(temp2),q))"
   ],
   "metadata": {
    "collapsed": false,
    "pycharm": {
     "name": "#%%\n",
     "is_executing": false
    }
   }
  },
  {
   "cell_type": "code",
   "execution_count": 4,
   "outputs": [
    {
     "data": {
      "text/plain": "Q*rho - Q*rho*exp(-k/beta) + Q*m*exp(-k/beta)/beta - rho",
      "text/latex": "$\\displaystyle Q \\rho - Q \\rho e^{- \\frac{k}{\\beta}} + \\frac{Q m e^{- \\frac{k}{\\beta}}}{\\beta} - \\rho$"
     },
     "metadata": {},
     "output_type": "display_data"
    }
   ],
   "source": [
    "display(simplify(diff(temp2,k)))"
   ],
   "metadata": {
    "collapsed": false,
    "pycharm": {
     "name": "#%%\n",
     "is_executing": false
    }
   }
  },
  {
   "cell_type": "code",
   "execution_count": 5,
   "outputs": [
    {
     "data": {
      "text/plain": "[beta*log(Q*(beta*rho - m)/(beta*rho*(Q - 1)))]"
     },
     "metadata": {},
     "output_type": "display_data"
    }
   ],
   "source": [
    "display(solve(diff(temp2,k),k))"
   ],
   "metadata": {
    "collapsed": false,
    "pycharm": {
     "name": "#%%\n",
     "is_executing": false
    }
   }
  },
  {
   "cell_type": "code",
   "execution_count": 6,
   "outputs": [],
   "source": [
    "# temp3 = q*((1-exp(-k/beta))*(m-beta*rho)+k*rho)-rho*(tau+k)\n",
    "# display(expand(temp3))\n",
    "# "
   ],
   "metadata": {
    "collapsed": false,
    "pycharm": {
     "name": "#%%\n",
     "is_executing": false
    }
   }
  },
  {
   "cell_type": "code",
   "execution_count": 73,
   "outputs": [
    {
     "data": {
      "text/plain": "(-Q*beta*rho*exp(k/beta) + Q*beta*rho + Q*k*rho*exp(k/beta) + Q*m*exp(k/beta) - Q*m - k*rho*exp(k/beta) - rho*tau*exp(k/beta))*exp(-k/beta)",
      "text/latex": "$\\displaystyle \\left(- Q \\beta \\rho e^{\\frac{k}{\\beta}} + Q \\beta \\rho + Q k \\rho e^{\\frac{k}{\\beta}} + Q m e^{\\frac{k}{\\beta}} - Q m - k \\rho e^{\\frac{k}{\\beta}} - \\rho \\tau e^{\\frac{k}{\\beta}}\\right) e^{- \\frac{k}{\\beta}}$"
     },
     "metadata": {},
     "output_type": "display_data"
    }
   ],
   "source": [],
   "metadata": {
    "collapsed": false,
    "pycharm": {
     "name": "#%%\n",
     "is_executing": false
    }
   }
  },
  {
   "cell_type": "code",
   "execution_count": 7,
   "outputs": [],
   "source": [
    "# defi = Integral((m-rho*(tau+d))*exp(-d/beta)/beta,(d,0,k))\n",
    "# display(defi)\n",
    "# soldefi = expand(defi.doit())\n",
    "# display(soldefi)\n",
    "# soldefi = collect(soldefi,(1-exp(-k/beta)))\n",
    "# display(soldefi)\n",
    "# soldefi = collect(soldefi,beta)\n",
    "# display(soldefi)\n",
    "# # display(collect(collect(expand(soldefi),(exp(-k/beta))),(-1*rho)))\n",
    "# "
   ],
   "metadata": {
    "collapsed": false,
    "pycharm": {
     "name": "#%%\n",
     "is_executing": false
    }
   }
  },
  {
   "cell_type": "code",
   "execution_count": 8,
   "outputs": [],
   "source": [
    "# indef = Integral((m-rho*(tau+d))*exp(-d/beta)/beta,d)\n",
    "# display(indef)\n",
    "# display(indef.doit())\n",
    "# display(indef.doit().subs(d,0))\n",
    "# display(indef.doit().subs(d,k))\n",
    "# display(indef.doit().subs(d,oo))\n",
    "# solindef = indef.doit().subs(d,oo)-indef.doit().subs(d,k)\n",
    "# display(solindef)\n",
    "# display(collect(collect(expand(solindef),(exp(-k/beta))),rho))\n",
    "# "
   ],
   "metadata": {
    "collapsed": false,
    "pycharm": {
     "name": "#%%\n",
     "is_executing": false
    }
   }
  },
  {
   "cell_type": "code",
   "execution_count": 14,
   "outputs": [
    {
     "data": {
      "text/plain": "Integral((m - rho*(d + tau))*exp(-d/beta)/beta, (d, k, oo))",
      "text/latex": "$\\displaystyle \\int\\limits_{k}^{\\infty} \\frac{\\left(m - \\rho \\left(d + \\tau\\right)\\right) e^{- \\frac{d}{\\beta}}}{\\beta}\\, dd$"
     },
     "metadata": {},
     "output_type": "display_data"
    },
    {
     "data": {
      "text/plain": "-beta*rho*(1 + k/beta)*exp(-k/beta) + m*exp(-k/beta) - rho*tau*exp(-k/beta)",
      "text/latex": "$\\displaystyle - \\beta \\rho \\left(1 + \\frac{k}{\\beta}\\right) e^{- \\frac{k}{\\beta}} + m e^{- \\frac{k}{\\beta}} - \\rho \\tau e^{- \\frac{k}{\\beta}}$"
     },
     "metadata": {},
     "output_type": "display_data"
    },
    {
     "data": {
      "text/plain": "(m + rho*(-beta - k - tau))*exp(-k/beta)",
      "text/latex": "$\\displaystyle \\left(m + \\rho \\left(- \\beta - k - \\tau\\right)\\right) e^{- \\frac{k}{\\beta}}$"
     },
     "metadata": {},
     "output_type": "display_data"
    }
   ],
   "source": [
    "# defi = Integral((m-rho*(tau+d))*exp(-d/beta)/beta,(d,k,oo))\n",
    "# display(defi)\n",
    "# soldefi = defi.doit()\n",
    "# display(soldefi)\n",
    "# display(collect(collect(expand(soldefi),(exp(-k/beta))),(-1*rho)))\n",
    "# "
   ],
   "metadata": {
    "collapsed": false,
    "pycharm": {
     "name": "#%%\n",
     "is_executing": false
    }
   }
  },
  {
   "cell_type": "code",
   "execution_count": 13,
   "outputs": [
    {
     "data": {
      "text/plain": "-beta*rho*(1 + k/beta)*exp(-k/beta) + m*exp(-k/beta) - rho*tau*exp(-k/beta)",
      "text/latex": "$\\displaystyle - \\beta \\rho \\left(1 + \\frac{k}{\\beta}\\right) e^{- \\frac{k}{\\beta}} + m e^{- \\frac{k}{\\beta}} - \\rho \\tau e^{- \\frac{k}{\\beta}}$"
     },
     "metadata": {},
     "output_type": "display_data"
    },
    {
     "data": {
      "text/plain": "(m + rho*(-beta*(1 + k/beta) - tau))*exp(-k/beta)",
      "text/latex": "$\\displaystyle \\left(m + \\rho \\left(- \\beta \\left(1 + \\frac{k}{\\beta}\\right) - \\tau\\right)\\right) e^{- \\frac{k}{\\beta}}$"
     },
     "metadata": {},
     "output_type": "display_data"
    }
   ],
   "source": [
    "# defi = Integral((m-rho*(tau+d))*exp(-d/beta)/beta,(d,k,oo))\n",
    "# soldefi = defi.doit()\n",
    "# \n",
    "# \n",
    "# display(soldefi)\n",
    "# display(collect(collect(soldefi,exp(-k/beta)),(-1*rho)))\n",
    "# "
   ],
   "metadata": {
    "collapsed": false,
    "pycharm": {
     "name": "#%%\n",
     "is_executing": false
    }
   }
  },
  {
   "cell_type": "code",
   "execution_count": 11,
   "outputs": [
    {
     "data": {
      "text/plain": "1 - Q",
      "text/latex": "$\\displaystyle 1 - Q$"
     },
     "metadata": {},
     "output_type": "display_data"
    },
    {
     "data": {
      "text/plain": "   -k⋅λ\nλ⋅ℯ    ",
      "text/latex": "$\\displaystyle \\lambda e^{- k \\lambda}$"
     },
     "metadata": {},
     "output_type": "display_data"
    }
   ],
   "source": [
    "# B = Bernoulli('B', q)\n",
    "# display(density(B)(0))\n",
    "# # l=1/beta\n",
    "# # display(l*beta)\n",
    "# D = Exponential('D',l)\n",
    "# display(density(D)(k))\n",
    "# "
   ],
   "metadata": {
    "collapsed": false,
    "pycharm": {
     "name": "#%%\n",
     "is_executing": false
    }
   }
  },
  {
   "cell_type": "code",
   "execution_count": 3,
   "outputs": [
    {
     "data": {
      "text/plain": "B = 1",
      "text/latex": "$\\displaystyle B = 1$"
     },
     "metadata": {},
     "output_type": "display_data"
    },
    {
     "data": {
      "text/plain": "k ≥ D",
      "text/latex": "$\\displaystyle k \\geq D$"
     },
     "metadata": {},
     "output_type": "display_data"
    },
    {
     "data": {
      "text/plain": "     -k⋅λ\n∞ - ℯ    ",
      "text/latex": "$\\displaystyle \\infty - e^{- k \\lambda}$"
     },
     "metadata": {},
     "output_type": "display_data"
    }
   ],
   "source": [
    "# # refine(beta,Q.positive(beta))\n",
    "# # refine(k,Q.positive(k))\n",
    "# # display(P(Eq(B,1)))\n",
    "# temp = GreaterThan(k,D)\n",
    "# temp2 = Eq(B,1)\n",
    "# display(temp2)\n",
    "# # refine(temp,Q.real(l))\n",
    "# # refine(temp,Q.positive(l))\n",
    "# display(temp)\n",
    "# display(P(temp))\n",
    "# "
   ],
   "metadata": {
    "collapsed": false,
    "pycharm": {
     "name": "#%%\n",
     "is_executing": false
    }
   }
  },
  {
   "cell_type": "code",
   "execution_count": 19,
   "outputs": [
    {
     "data": {
      "text/plain": " -k⋅λ\nℯ    ",
      "text/latex": "$\\displaystyle e^{- k \\lambda}$"
     },
     "metadata": {},
     "output_type": "display_data"
    }
   ],
   "source": [],
   "metadata": {
    "collapsed": false,
    "pycharm": {
     "name": "#%%\n",
     "is_executing": false
    }
   }
  },
  {
   "cell_type": "code",
   "execution_count": 2,
   "outputs": [
    {
     "data": {
      "text/plain": "exp(-k*lambda)",
      "text/latex": "$\\displaystyle e^{- k \\lambda}$"
     },
     "metadata": {},
     "output_type": "display_data"
    },
    {
     "data": {
      "text/plain": "oo - exp(-k*lambda)",
      "text/latex": "$\\displaystyle \\infty - e^{- k \\lambda}$"
     },
     "metadata": {},
     "output_type": "display_data"
    }
   ],
   "source": [
    "# from sympy import *\n",
    "# from sympy.stats import *\n",
    "# from IPython.display import display\n",
    "# \n",
    "# l = symbols('lambda',real=True,positive=True)\n",
    "# k = symbols('k',real=True)\n",
    "# D = Exponential('D',l)\n",
    "# display(P(k<D))\n",
    "# display(P(k>D))\n",
    "# "
   ],
   "metadata": {
    "collapsed": false,
    "pycharm": {
     "name": "#%%\n",
     "is_executing": false
    }
   }
  },
  {
   "cell_type": "code",
   "execution_count": 36,
   "outputs": [
    {
     "data": {
      "text/plain": "sqrt(2)*exp(-(-mu + x)**2/(2*sigma**2))/(2*sqrt(pi)*sigma)",
      "text/latex": "$\\displaystyle \\frac{\\sqrt{2} e^{- \\frac{\\left(- \\mu + x\\right)^{2}}{2 \\sigma^{2}}}}{2 \\sqrt{\\pi} \\sigma}$"
     },
     "metadata": {},
     "output_type": "display_data"
    },
    {
     "data": {
      "text/plain": "sqrt(2)*exp(-x**2/2)/(2*sqrt(pi))",
      "text/latex": "$\\displaystyle \\frac{\\sqrt{2} e^{- \\frac{x^{2}}{2}}}{2 \\sqrt{\\pi}}$"
     },
     "metadata": {},
     "output_type": "display_data"
    },
    {
     "data": {
      "text/plain": "-0.500000000000000",
      "text/latex": "$\\displaystyle -0.5$"
     },
     "metadata": {},
     "output_type": "display_data"
    }
   ],
   "source": [
    "# x, mu = symbols('x, mu',real=True)\n",
    "# sig = symbols('sigma',real=True, positive=True)\n",
    "# gau = 1/(sqrt(2*pi*sig**2))*(exp(-(x-mu)**2/(2*sig**2)))\n",
    "# # gau.subs([(sig,1),( mu, 0)]).subs([(sig,1),(mu, 0)])\n",
    "# display(gau)\n",
    "# display(gau.subs([(sig,1),( mu, 0)]))\n",
    "# # \n",
    "# integ = Integral(gau.subs([(sig,1),( mu, 0)]),(x,-10))\n",
    "# display(integ.doit().evalf())\n",
    "# "
   ],
   "metadata": {
    "collapsed": false,
    "pycharm": {
     "name": "#%%\n",
     "is_executing": false
    }
   }
  },
  {
   "cell_type": "code",
   "execution_count": 37,
   "outputs": [
    {
     "data": {
      "text/plain": "-0.500000000000000",
      "text/latex": "$\\displaystyle -0.5$"
     },
     "metadata": {},
     "output_type": "display_data"
    },
    {
     "data": {
      "text/plain": "0.500000000000000",
      "text/latex": "$\\displaystyle 0.5$"
     },
     "metadata": {},
     "output_type": "display_data"
    }
   ],
   "source": [
    "# display(Integral(gau.subs([(sig,1),( mu, 0)]),(x,-10)).doit().evalf())\n",
    "# display(Integral(gau.subs([(sig,1),( mu, 0)]),(x,10)).doit().evalf())"
   ],
   "metadata": {
    "collapsed": false,
    "pycharm": {
     "name": "#%%\n",
     "is_executing": false
    }
   }
  }
 ],
 "metadata": {
  "language_info": {
   "codemirror_mode": {
    "name": "ipython",
    "version": 2
   },
   "file_extension": ".py",
   "mimetype": "text/x-python",
   "name": "python",
   "nbconvert_exporter": "python",
   "pygments_lexer": "ipython2",
   "version": "2.7.6"
  },
  "kernelspec": {
   "name": "python3",
   "language": "python",
   "display_name": "Python 3"
  },
  "pycharm": {
   "stem_cell": {
    "cell_type": "raw",
    "source": [],
    "metadata": {
     "collapsed": false
    }
   }
  }
 },
 "nbformat": 4,
 "nbformat_minor": 0
}