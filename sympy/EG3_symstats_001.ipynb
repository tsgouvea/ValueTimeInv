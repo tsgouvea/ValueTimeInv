{
 "cells": [
  {
   "cell_type": "code",
   "execution_count": 1,
   "outputs": [],
   "source": [
    "from sympy import *\n",
    "from sympy.stats import *\n",
    "from sympy.printing.pycode import NumPyPrinter\n",
    "from IPython.display import display\n",
    "\n",
    "# pB, K, d, b, r, eg, rho, tau, m = symbols('P(B), K, d, beta, r, E(G|K), rho, tau, m')\n",
    "m,rho,tau,d,beta,l,q = symbols('m,rho,tau,d,beta,lambda,Q',real=True,positive=True)\n",
    "B,R,k = symbols('B, R, k',real=True)"
   ],
   "metadata": {
    "collapsed": false,
    "pycharm": {
     "name": "#%%\n",
     "is_executing": false
    }
   }
  },
  {
   "cell_type": "code",
   "execution_count": 11,
   "outputs": [
    {
     "data": {
      "text/plain": "1 - Q",
      "text/latex": "$\\displaystyle 1 - Q$"
     },
     "metadata": {},
     "output_type": "display_data"
    },
    {
     "data": {
      "text/plain": "   -k⋅λ\nλ⋅ℯ    ",
      "text/latex": "$\\displaystyle \\lambda e^{- k \\lambda}$"
     },
     "metadata": {},
     "output_type": "display_data"
    }
   ],
   "source": [
    "B = Bernoulli('B', q)\n",
    "display(density(B)(0))\n",
    "# l=1/beta\n",
    "# display(l*beta)\n",
    "D = Exponential('D',l)\n",
    "display(density(D)(k))"
   ],
   "metadata": {
    "collapsed": false,
    "pycharm": {
     "name": "#%%\n",
     "is_executing": false
    }
   }
  },
  {
   "cell_type": "code",
   "execution_count": 3,
   "outputs": [
    {
     "data": {
      "text/plain": "B = 1",
      "text/latex": "$\\displaystyle B = 1$"
     },
     "metadata": {},
     "output_type": "display_data"
    },
    {
     "data": {
      "text/plain": "k ≥ D",
      "text/latex": "$\\displaystyle k \\geq D$"
     },
     "metadata": {},
     "output_type": "display_data"
    },
    {
     "data": {
      "text/plain": "     -k⋅λ\n∞ - ℯ    ",
      "text/latex": "$\\displaystyle \\infty - e^{- k \\lambda}$"
     },
     "metadata": {},
     "output_type": "display_data"
    }
   ],
   "source": [
    "# refine(beta,Q.positive(beta))\n",
    "# refine(k,Q.positive(k))\n",
    "# display(P(Eq(B,1)))\n",
    "temp = GreaterThan(k,D)\n",
    "temp2 = Eq(B,1)\n",
    "display(temp2)\n",
    "# refine(temp,Q.real(l))\n",
    "# refine(temp,Q.positive(l))\n",
    "display(temp)\n",
    "display(P(temp))"
   ],
   "metadata": {
    "collapsed": false,
    "pycharm": {
     "name": "#%%\n",
     "is_executing": false
    }
   }
  },
  {
   "cell_type": "code",
   "execution_count": 19,
   "outputs": [
    {
     "data": {
      "text/plain": " -k⋅λ\nℯ    ",
      "text/latex": "$\\displaystyle e^{- k \\lambda}$"
     },
     "metadata": {},
     "output_type": "display_data"
    }
   ],
   "source": [],
   "metadata": {
    "collapsed": false,
    "pycharm": {
     "name": "#%%\n",
     "is_executing": false
    }
   }
  },
  {
   "cell_type": "code",
   "execution_count": 2,
   "outputs": [
    {
     "data": {
      "text/plain": "exp(-k*lambda)",
      "text/latex": "$\\displaystyle e^{- k \\lambda}$"
     },
     "metadata": {},
     "output_type": "display_data"
    },
    {
     "data": {
      "text/plain": "oo - exp(-k*lambda)",
      "text/latex": "$\\displaystyle \\infty - e^{- k \\lambda}$"
     },
     "metadata": {},
     "output_type": "display_data"
    }
   ],
   "source": [
    "from sympy import *\n",
    "from sympy.stats import *\n",
    "from IPython.display import display\n",
    "\n",
    "l = symbols('lambda',real=True,positive=True)\n",
    "k = symbols('k',real=True)\n",
    "D = Exponential('D',l)\n",
    "display(P(k<D))\n",
    "display(P(k>D))"
   ],
   "metadata": {
    "collapsed": false,
    "pycharm": {
     "name": "#%%\n",
     "is_executing": false
    }
   }
  },
  {
   "cell_type": "code",
   "execution_count": 36,
   "outputs": [
    {
     "data": {
      "text/plain": "sqrt(2)*exp(-(-mu + x)**2/(2*sigma**2))/(2*sqrt(pi)*sigma)",
      "text/latex": "$\\displaystyle \\frac{\\sqrt{2} e^{- \\frac{\\left(- \\mu + x\\right)^{2}}{2 \\sigma^{2}}}}{2 \\sqrt{\\pi} \\sigma}$"
     },
     "metadata": {},
     "output_type": "display_data"
    },
    {
     "data": {
      "text/plain": "sqrt(2)*exp(-x**2/2)/(2*sqrt(pi))",
      "text/latex": "$\\displaystyle \\frac{\\sqrt{2} e^{- \\frac{x^{2}}{2}}}{2 \\sqrt{\\pi}}$"
     },
     "metadata": {},
     "output_type": "display_data"
    },
    {
     "data": {
      "text/plain": "-0.500000000000000",
      "text/latex": "$\\displaystyle -0.5$"
     },
     "metadata": {},
     "output_type": "display_data"
    }
   ],
   "source": [
    "x, mu = symbols('x, mu',real=True)\n",
    "sig = symbols('sigma',real=True, positive=True)\n",
    "gau = 1/(sqrt(2*pi*sig**2))*(exp(-(x-mu)**2/(2*sig**2)))\n",
    "# gau.subs([(sig,1),( mu, 0)]).subs([(sig,1),(mu, 0)])\n",
    "display(gau)\n",
    "display(gau.subs([(sig,1),( mu, 0)]))\n",
    "# \n",
    "integ = Integral(gau.subs([(sig,1),( mu, 0)]),(x,-10))\n",
    "display(integ.doit().evalf())"
   ],
   "metadata": {
    "collapsed": false,
    "pycharm": {
     "name": "#%%\n",
     "is_executing": false
    }
   }
  },
  {
   "cell_type": "code",
   "execution_count": 37,
   "outputs": [
    {
     "data": {
      "text/plain": "-0.500000000000000",
      "text/latex": "$\\displaystyle -0.5$"
     },
     "metadata": {},
     "output_type": "display_data"
    },
    {
     "data": {
      "text/plain": "0.500000000000000",
      "text/latex": "$\\displaystyle 0.5$"
     },
     "metadata": {},
     "output_type": "display_data"
    }
   ],
   "source": [
    "display(Integral(gau.subs([(sig,1),( mu, 0)]),(x,-10)).doit().evalf())\n",
    "display(Integral(gau.subs([(sig,1),( mu, 0)]),(x,10)).doit().evalf())"
   ],
   "metadata": {
    "collapsed": false,
    "pycharm": {
     "name": "#%%\n",
     "is_executing": false
    }
   }
  }
 ],
 "metadata": {
  "language_info": {
   "codemirror_mode": {
    "name": "ipython",
    "version": 2
   },
   "file_extension": ".py",
   "mimetype": "text/x-python",
   "name": "python",
   "nbconvert_exporter": "python",
   "pygments_lexer": "ipython2",
   "version": "2.7.6"
  },
  "kernelspec": {
   "name": "python3",
   "language": "python",
   "display_name": "Python 3"
  },
  "pycharm": {
   "stem_cell": {
    "cell_type": "raw",
    "source": [],
    "metadata": {
     "collapsed": false
    }
   }
  }
 },
 "nbformat": 4,
 "nbformat_minor": 0
}