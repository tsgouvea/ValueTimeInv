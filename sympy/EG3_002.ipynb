{
 "cells": [
  {
   "cell_type": "code",
   "execution_count": 1,
   "outputs": [],
   "source": [
    "from sympy import *\n",
    "from sympy.printing.pycode import NumPyPrinter\n",
    "from IPython.display import display\n",
    "init_printing(use_latex='mathjax')\n",
    "\n",
    "# pB, K, d, b, r, eg, rho, tau, m = symbols('P(B), K, d, beta, r, E(G|K), rho, tau, m')\n",
    "k,m,rho,tau,d,beta,B = symbols('k,m,rho,tau,d,beta,B')"
   ],
   "metadata": {
    "collapsed": false,
    "pycharm": {
     "name": "#%%\n",
     "is_executing": false
    }
   }
  },
  {
   "cell_type": "code",
   "execution_count": 2,
   "outputs": [
    {
     "data": {
      "text/plain": "                                      -d \n                                      ───\n                                       β \nB⋅(m - ρ⋅(d + τ))⋅(sign(-d + k) + 1)⋅ℯ   \n─────────────────────────────────────────\n                   2⋅β                   ",
      "text/latex": "$\\displaystyle \\frac{B \\left(m - \\rho \\left(d + \\tau\\right)\\right) \\left(\\operatorname{sign}{\\left(- d + k \\right)} + 1\\right) e^{- \\frac{d}{\\beta}}}{2 \\beta}$"
     },
     "metadata": {},
     "output_type": "display_data"
    },
    {
     "data": {
      "text/plain": "                                         -d  \n                                         ─── \n           ⎛  B⋅(sign(-d + k) + 1)    ⎞   β  \n-ρ⋅(k + τ)⋅⎜- ──────────────────── + 1⎟⋅ℯ    \n           ⎝           2              ⎠      \n─────────────────────────────────────────────\n                      β                      ",
      "text/latex": "$\\displaystyle - \\frac{\\rho \\left(k + \\tau\\right) \\left(- \\frac{B \\left(\\operatorname{sign}{\\left(- d + k \\right)} + 1\\right)}{2} + 1\\right) e^{- \\frac{d}{\\beta}}}{\\beta}$"
     },
     "metadata": {},
     "output_type": "display_data"
    },
    {
     "data": {
      "text/plain": "∞                                              \n⌠                                              \n⎮                                       -d     \n⎮                                       ───    \n⎮                                        β     \n⎮ -B⋅(m - ρ⋅(d + τ))⋅(sign(d - k) - 1)⋅ℯ       \n⎮ ────────────────────────────────────────── dd\n⎮                    2⋅β                       \n⌡                                              \n0                                              ",
      "text/latex": "$\\displaystyle \\int\\limits_{0}^{\\infty} \\left(- \\frac{B \\left(m - \\rho \\left(d + \\tau\\right)\\right) \\left(\\operatorname{sign}{\\left(d - k \\right)} - 1\\right) e^{- \\frac{d}{\\beta}}}{2 \\beta}\\right)\\, dd$"
     },
     "metadata": {},
     "output_type": "display_data"
    },
    {
     "data": {
      "text/plain": "∞                                              \n⌠                                              \n⎮                                       -d     \n⎮                                       ───    \n⎮                                        β     \n⎮ -ρ⋅(k + τ)⋅(B⋅(sign(d - k) - 1) + 2)⋅ℯ       \n⎮ ────────────────────────────────────────── dd\n⎮                    2⋅β                       \n⌡                                              \n0                                              ",
      "text/latex": "$\\displaystyle \\int\\limits_{0}^{\\infty} \\left(- \\frac{\\rho \\left(k + \\tau\\right) \\left(B \\left(\\operatorname{sign}{\\left(d - k \\right)} - 1\\right) + 2\\right) e^{- \\frac{d}{\\beta}}}{2 \\beta}\\right)\\, dd$"
     },
     "metadata": {},
     "output_type": "display_data"
    }
   ],
   "source": [
    "eqR1 = (m-rho* (tau+d)) * (B*(sign(k-d)+1)/2) * exp(-d/beta)/beta\n",
    "eqR0 = (-rho* (tau+k)) * (1-B*(sign(k-d)+1)/2) * exp(-d/beta)/beta\n",
    "display(eqR1)\n",
    "display(eqR0)\n",
    "intR1 = Integral(eqR1,(d,0, oo))\n",
    "intR0 = Integral(eqR0,(d,0, oo))\n",
    "display(simplify(intR1))\n",
    "display(simplify(intR0))"
   ],
   "metadata": {
    "collapsed": false,
    "pycharm": {
     "name": "#%%\n",
     "is_executing": false
    }
   }
  },
  {
   "cell_type": "code",
   "execution_count": 3,
   "outputs": [
    {
     "data": {
      "text/plain": "ℯ",
      "text/latex": "$\\displaystyle e$"
     },
     "metadata": {},
     "output_type": "display_data"
    }
   ],
   "source": [
    "E = simplify(intR1.doit()+intR0.doit()) if 'E' not in locals() else E\n",
    "display(E)"
   ],
   "metadata": {
    "collapsed": false,
    "pycharm": {
     "name": "#%%\n",
     "is_executing": false
    }
   }
  },
  {
   "cell_type": "code",
   "execution_count": 13,
   "outputs": [
    {
     "data": {
      "text/plain": " ∞                        \n ⌠                        \n ⎮                  -d    \n ⎮                  ───   \n ⎮                   β    \n-⎮ (d⋅ρ - m + ρ⋅τ)⋅ℯ    dd\n ⌡                        \n k                        ",
      "text/latex": "$\\displaystyle - \\int\\limits_{k}^{\\infty} \\left(d \\rho - m + \\rho \\tau\\right) e^{- \\frac{d}{\\beta}}\\, dd$"
     },
     "metadata": {},
     "output_type": "display_data"
    }
   ],
   "source": [
    "# eqR1lower =\n",
    "# display(eqR1lower)\n",
    "# display((expand(eqR1lower)))\n",
    "eqR1upper = integrate((m-rho*(tau+d))*exp(-d/beta),(d,k,oo))\n",
    "display(eqR1upper)\n",
    "# # \n",
    "# eqR0lower =\n",
    "# display(eqR0lower)\n",
    "# eqR0upper = \n",
    "# display(eqR0upper)"
   ],
   "metadata": {
    "collapsed": false,
    "pycharm": {
     "name": "#%%\n",
     "is_executing": false
    }
   }
  },
  {
   "cell_type": "code",
   "execution_count": 5,
   "outputs": [
    {
     "data": {
      "text/plain": "       -k             -k         -k           -k                 -k           \n       ───            ───        ───          ───                ───          \n        β              β          β            β     2      2     β           \nB⋅β⋅ρ⋅ℯ    + 3⋅B⋅k⋅ρ⋅ℯ    - B⋅m⋅ℯ    + B⋅ρ⋅τ⋅ℯ    - β ⋅ρ + β ⋅ρ⋅ℯ    + β⋅k⋅ρ⋅ℯ\n\n-k         -k                 -k           \n───        ───                ───          \n β          β                  β           \n    - β⋅ρ⋅ℯ    - 2⋅k⋅ρ - k⋅ρ⋅ℯ    + m - ρ⋅τ",
      "text/latex": "$\\displaystyle B \\beta \\rho e^{- \\frac{k}{\\beta}} + 3 B k \\rho e^{- \\frac{k}{\\beta}} - B m e^{- \\frac{k}{\\beta}} + B \\rho \\tau e^{- \\frac{k}{\\beta}} - \\beta^{2} \\rho + \\beta^{2} \\rho e^{- \\frac{k}{\\beta}} + \\beta k \\rho e^{- \\frac{k}{\\beta}} - \\beta \\rho e^{- \\frac{k}{\\beta}} - 2 k \\rho - k \\rho e^{- \\frac{k}{\\beta}} + m - \\rho \\tau$"
     },
     "metadata": {},
     "output_type": "display_data"
    }
   ],
   "source": [
    "E = expand(eqR1lower) + expand(eqR1upper) + expand(eqR0lower)+ expand(eqR0upper)\n",
    "display(expand(E))"
   ],
   "metadata": {
    "collapsed": false,
    "pycharm": {
     "name": "#%%\n",
     "is_executing": false
    }
   }
  },
  {
   "cell_type": "code",
   "execution_count": 6,
   "outputs": [
    {
     "data": {
      "text/plain": "  ⎛     k⎞          -k \n  ⎜     ─⎟          ───\n  ⎜     β⎟           β \nρ⋅⎝B - ℯ ⎠⋅(k + τ)⋅ℯ   ",
      "text/latex": "$\\displaystyle \\rho \\left(B - e^{\\frac{k}{\\beta}}\\right) \\left(k + \\tau\\right) e^{- \\frac{k}{\\beta}}$"
     },
     "metadata": {},
     "output_type": "display_data"
    }
   ],
   "source": [
    "display(simplify(eqR0lower+ eqR0upper))"
   ],
   "metadata": {
    "collapsed": false,
    "pycharm": {
     "name": "#%%\n",
     "is_executing": false
    }
   }
  },
  {
   "cell_type": "code",
   "execution_count": 10,
   "outputs": [
    {
     "data": {
      "text/plain": "∞                        \n⌠                        \n⎮                  -d    \n⎮                  ───   \n⎮                   β    \n⎮ (m - ρ⋅(d + τ))⋅ℯ      \n⎮ ──────────────────── dd\n⎮          β             \n⌡                        \n0                        ",
      "text/latex": "$\\displaystyle \\int\\limits_{0}^{\\infty} \\frac{\\left(m - \\rho \\left(d + \\tau\\right)\\right) e^{- \\frac{d}{\\beta}}}{\\beta}\\, dd$"
     },
     "metadata": {},
     "output_type": "display_data"
    },
    {
     "data": {
      "text/plain": "⎧                                          π\n⎪     -β⋅ρ + m - ρ⋅τ        for │arg(β)│ < ─\n⎪                                          2\n⎪                                           \n⎪∞                                          \n⎪⌠                                          \n⎪⎮                  -d                      \n⎨⎮                  ───                     \n⎪⎮                   β                      \n⎪⎮ (m - ρ⋅(d + τ))⋅ℯ                        \n⎪⎮ ──────────────────── dd     otherwise    \n⎪⎮          β                               \n⎪⌡                                          \n⎪0                                          \n⎩                                           ",
      "text/latex": "$\\displaystyle \\begin{cases} - \\beta \\rho + m - \\rho \\tau & \\text{for}\\: \\left|{\\arg{\\left(\\beta \\right)}}\\right| < \\frac{\\pi}{2} \\\\\\int\\limits_{0}^{\\infty} \\frac{\\left(m - \\rho \\left(d + \\tau\\right)\\right) e^{- \\frac{d}{\\beta}}}{\\beta}\\, dd & \\text{otherwise} \\end{cases}$"
     },
     "metadata": {},
     "output_type": "display_data"
    }
   ],
   "source": [
    "temp = Integral((m-rho*(tau+d))*exp(-d/beta)/beta,(d,0,oo))\n",
    "temp = refine(temp,Q.positive(beta))\n",
    "temp = refine(temp,Q.positive(rho))\n",
    "temp = refine(temp,Q.positive(tau))\n",
    "display(temp)\n",
    "display(temp.doit())\n"
   ],
   "metadata": {
    "collapsed": false,
    "pycharm": {
     "name": "#%%\n",
     "is_executing": false
    }
   }
  }
 ],
 "metadata": {
  "language_info": {
   "codemirror_mode": {
    "name": "ipython",
    "version": 2
   },
   "file_extension": ".py",
   "mimetype": "text/x-python",
   "name": "python",
   "nbconvert_exporter": "python",
   "pygments_lexer": "ipython2",
   "version": "2.7.6"
  },
  "kernelspec": {
   "name": "python3",
   "language": "python",
   "display_name": "Python 3"
  },
  "pycharm": {
   "stem_cell": {
    "cell_type": "raw",
    "source": [],
    "metadata": {
     "collapsed": false
    }
   }
  }
 },
 "nbformat": 4,
 "nbformat_minor": 0
}