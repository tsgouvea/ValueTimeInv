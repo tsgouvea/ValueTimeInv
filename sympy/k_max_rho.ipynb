{
 "cells": [
  {
   "cell_type": "code",
   "execution_count": 25,
   "outputs": [],
   "source": [
    "from sympy import *\n",
    "from sympy.stats import *\n",
    "from sympy.printing.pycode import NumPyPrinter\n",
    "from IPython.display import display\n",
    "init_printing(use_latex='mathjax')\n",
    "\n",
    "m,rho,tau,d,beta,l,q,k = symbols('m,rho,tau,d,beta,lambda,Q,k',real=True,positive=True)\n",
    "B,R = symbols('B, R',real=True)"
   ],
   "metadata": {
    "collapsed": false,
    "pycharm": {
     "name": "#%%\n",
     "is_executing": false
    }
   }
  },
  {
   "cell_type": "code",
   "execution_count": 45,
   "outputs": [
    {
     "data": {
      "text/plain": "BernoulliDistribution(Q, 1, 0)",
      "text/latex": "$\\displaystyle BernoulliDistribution\\left(Q, 1, 0\\right)$"
     },
     "metadata": {},
     "output_type": "display_data"
    },
    {
     "data": {
      "text/plain": " ⎛    ⎛     -k ⎞    ⎞\n ⎜    ⎜     ───⎟    ⎟\n ⎜    ⎜      β ⎟    ⎟\nδ⎝- Q⋅⎝1 - ℯ   ⎠ + 1⎠",
      "text/latex": "$\\displaystyle \\delta\\left(- Q \\left(1 - e^{- \\frac{k}{\\beta}}\\right) + 1\\right)$"
     },
     "metadata": {},
     "output_type": "display_data"
    },
    {
     "data": {
      "text/plain": "False"
     },
     "metadata": {},
     "output_type": "display_data"
    }
   ],
   "source": [
    "B = Bernoulli('B', q)\n",
    "D = Exponential(d,1/beta)\n",
    "display(density(B))\n",
    "cdf(D)(k)\n",
    "\n",
    "R = density(B)(1)*cdf(D)(k)\n",
    "display(density(R)(1))"
   ],
   "metadata": {
    "collapsed": false,
    "pycharm": {
     "name": "#%%\n",
     "is_executing": false
    }
   }
  },
  {
   "cell_type": "code",
   "execution_count": 51,
   "outputs": [
    {
     "data": {
      "text/plain": "Expectation(d < k)",
      "text/latex": "$\\displaystyle Expectation\\left(d < k\\right)$"
     },
     "metadata": {},
     "output_type": "execute_result",
     "execution_count": 51
    }
   ],
   "source": [
    "Expectation(D<k)"
   ],
   "metadata": {
    "collapsed": false,
    "pycharm": {
     "name": "#%%\n",
     "is_executing": false
    }
   }
  },
  {
   "cell_type": "code",
   "execution_count": 52,
   "outputs": [
    {
     "data": {
      "text/plain": "∞         \n⌠         \n⎮   -d    \n⎮   ───   \n⎮    β    \n⎮  ℯ      \n⎮ ───── dd\n⎮ d + τ   \n⌡         \nk         ",
      "text/latex": "$\\displaystyle \\int\\limits_{k}^{\\infty} \\frac{e^{- \\frac{d}{\\beta}}}{d + \\tau}\\, dd$"
     },
     "metadata": {},
     "output_type": "display_data"
    },
    {
     "data": {
      "text/plain": "                                     τ                                        \n     τ             τ                 ─   ⎛   ⅈ⋅π      ⅈ⋅π⎞        τ          τ\n     ─             ─                 β   ⎜k⋅ℯ      τ⋅ℯ   ⎟        ─          ─\n     β             β              k⋅ℯ ⋅Ei⎜────── + ──────⎟        β          β\n  k⋅ℯ ⋅log(β)   k⋅ℯ ⋅log(k + τ)          ⎝  β        β   ⎠   γ⋅k⋅ℯ    ⅈ⋅π⋅k⋅ℯ \n- ─────────── + ─────────────── - ──────────────────────── + ────── + ────────\n     k + τ           k + τ                 k + τ             k + τ     k + τ  \n\n                                      τ                                       \n      τ             τ                 ─   ⎛   ⅈ⋅π      ⅈ⋅π⎞        τ          \n      ─             ─                 β   ⎜k⋅ℯ      τ⋅ℯ   ⎟        ─          \n      β             β              τ⋅ℯ ⋅Ei⎜────── + ──────⎟        β          \n   τ⋅ℯ ⋅log(β)   τ⋅ℯ ⋅log(k + τ)          ⎝  β        β   ⎠   γ⋅τ⋅ℯ    ⅈ⋅π⋅τ⋅ℯ\n - ─────────── + ─────────────── - ──────────────────────── + ────── + ───────\n      k + τ           k + τ                 k + τ             k + τ     k + τ \n\n                                    \nτ                                   \n─    τ           τ                 τ\nβ    ─           ─                 ─\n     β           β                 β\n─ + ℯ ⋅log(β) - ℯ ⋅log(k + τ) - γ⋅ℯ \n                                    ",
      "text/latex": "$\\displaystyle - \\frac{k e^{\\frac{\\tau}{\\beta}} \\log{\\left(\\beta \\right)}}{k + \\tau} + \\frac{k e^{\\frac{\\tau}{\\beta}} \\log{\\left(k + \\tau \\right)}}{k + \\tau} - \\frac{k e^{\\frac{\\tau}{\\beta}} \\operatorname{Ei}{\\left(\\frac{k e^{i \\pi}}{\\beta} + \\frac{\\tau e^{i \\pi}}{\\beta} \\right)}}{k + \\tau} + \\frac{\\gamma k e^{\\frac{\\tau}{\\beta}}}{k + \\tau} + \\frac{i \\pi k e^{\\frac{\\tau}{\\beta}}}{k + \\tau} - \\frac{\\tau e^{\\frac{\\tau}{\\beta}} \\log{\\left(\\beta \\right)}}{k + \\tau} + \\frac{\\tau e^{\\frac{\\tau}{\\beta}} \\log{\\left(k + \\tau \\right)}}{k + \\tau} - \\frac{\\tau e^{\\frac{\\tau}{\\beta}} \\operatorname{Ei}{\\left(\\frac{k e^{i \\pi}}{\\beta} + \\frac{\\tau e^{i \\pi}}{\\beta} \\right)}}{k + \\tau} + \\frac{\\gamma \\tau e^{\\frac{\\tau}{\\beta}}}{k + \\tau} + \\frac{i \\pi \\tau e^{\\frac{\\tau}{\\beta}}}{k + \\tau} + e^{\\frac{\\tau}{\\beta}} \\log{\\left(\\beta \\right)} - e^{\\frac{\\tau}{\\beta}} \\log{\\left(k + \\tau \\right)} - \\gamma e^{\\frac{\\tau}{\\beta}}$"
     },
     "metadata": {},
     "output_type": "display_data"
    }
   ],
   "source": [
    "defi = Integral(exp(-d/beta)/(tau+d),(d,k,oo))\n",
    "display(defi)\n",
    "soldefi = expand(defi.doit())\n",
    "soldefi = collect(soldefi,(exp(-k/beta)))\n",
    "display(soldefi)"
   ],
   "metadata": {
    "collapsed": false,
    "pycharm": {
     "name": "#%%\n",
     "is_executing": false
    }
   }
  },
  {
   "cell_type": "code",
   "execution_count": 55,
   "outputs": [
    {
     "data": {
      "text/plain": "⌠         \n⎮   -d    \n⎮   ───   \n⎮    β    \n⎮  ℯ      \n⎮ ───── dd\n⎮ d + τ   \n⌡         ",
      "text/latex": "$\\displaystyle \\int \\frac{e^{- \\frac{d}{\\beta}}}{d + \\tau}\\, dd$"
     },
     "metadata": {},
     "output_type": "display_data"
    },
    {
     "data": {
      "text/plain": "⌠         \n⎮   -k    \n⎮   ───   \n⎮    β    \n⎮  ℯ      \n⎮ ───── dk\n⎮ k + τ   \n⌡         ",
      "text/latex": "$\\displaystyle \\int \\frac{e^{- \\frac{k}{\\beta}}}{k + \\tau}\\, dk$"
     },
     "metadata": {},
     "output_type": "display_data"
    },
    {
     "data": {
      "text/plain": "∞         \n⌠         \n⎮   -d    \n⎮   ───   \n⎮    β    \n⎮  ℯ      \n⎮ ───── dd\n⎮ d + τ   \n⌡         \n          ",
      "text/latex": "$\\displaystyle \\int\\limits^{\\infty} \\frac{e^{- \\frac{d}{\\beta}}}{d + \\tau}\\, dd$"
     },
     "metadata": {},
     "output_type": "display_data"
    },
    {
     "data": {
      "text/plain": "∞                      \n⌠            ⌠         \n⎮   -d       ⎮   -k    \n⎮   ───      ⎮   ───   \n⎮    β       ⎮    β    \n⎮  ℯ         ⎮  ℯ      \n⎮ ───── dd - ⎮ ───── dk\n⎮ d + τ      ⎮ k + τ   \n⌡            ⌡         \n                       ",
      "text/latex": "$\\displaystyle \\int\\limits^{\\infty} \\frac{e^{- \\frac{d}{\\beta}}}{d + \\tau}\\, dd - \\int \\frac{e^{- \\frac{k}{\\beta}}}{k + \\tau}\\, dk$"
     },
     "metadata": {},
     "output_type": "display_data"
    }
   ],
   "source": [
    "indef = Integral(exp(-d/beta)/(tau+d),d)\n",
    "display(indef)\n",
    "# display(indef.doit())\n",
    "# display(indef.doit().subs(d,0))\n",
    "display(indef.doit().subs(d,k))\n",
    "display(indef.doit().subs(d,oo))\n",
    "solindef = indef.doit().subs(d,oo)-indef.doit().subs(d,k)"
   ],
   "metadata": {
    "collapsed": false,
    "pycharm": {
     "name": "#%%\n",
     "is_executing": false
    }
   }
  },
  {
   "cell_type": "code",
   "execution_count": 56,
   "outputs": [
    {
     "data": {
      "text/plain": "∞                      \n⌠            ⌠         \n⎮   -d       ⎮   -k    \n⎮   ───      ⎮   ───   \n⎮    β       ⎮    β    \n⎮  ℯ         ⎮  ℯ      \n⎮ ───── dd - ⎮ ───── dk\n⎮ d + τ      ⎮ k + τ   \n⌡            ⌡         \n                       ",
      "text/latex": "$\\displaystyle \\int\\limits^{\\infty} \\frac{e^{- \\frac{d}{\\beta}}}{d + \\tau}\\, dd - \\int \\frac{e^{- \\frac{k}{\\beta}}}{k + \\tau}\\, dk$"
     },
     "metadata": {},
     "output_type": "display_data"
    }
   ],
   "source": [
    "display(solindef.doit())\n",
    "# display(collect(collect(expand(solindef),(exp(-k/beta))),rho))"
   ],
   "metadata": {
    "collapsed": false,
    "pycharm": {
     "name": "#%%\n",
     "is_executing": false
    }
   }
  }
 ],
 "metadata": {
  "language_info": {
   "codemirror_mode": {
    "name": "ipython",
    "version": 2
   },
   "file_extension": ".py",
   "mimetype": "text/x-python",
   "name": "python",
   "nbconvert_exporter": "python",
   "pygments_lexer": "ipython2",
   "version": "2.7.6"
  },
  "kernelspec": {
   "name": "python3",
   "language": "python",
   "display_name": "Python 3"
  },
  "pycharm": {
   "stem_cell": {
    "cell_type": "raw",
    "source": [],
    "metadata": {
     "collapsed": false
    }
   }
  }
 },
 "nbformat": 4,
 "nbformat_minor": 0
}