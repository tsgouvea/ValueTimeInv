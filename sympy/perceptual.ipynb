{
 "cells": [
  {
   "cell_type": "code",
   "execution_count": 2,
   "outputs": [],
   "source": [
    "import numpy as np\n",
    "from sympy import *\n",
    "from sympy.printing.pycode import NumPyPrinter\n",
    "from IPython.display import display\n",
    "init_printing(use_latex='mathjax')\n",
    "\n",
    "R,pi,xhat,b,x = symbols('R,pi,xhat,b,x',real=True)\n",
    "k,beta,m = symbols('k,beta,m',real=True,positive=True)"
   ],
   "metadata": {
    "collapsed": false,
    "pycharm": {
     "name": "#%%\n",
     "is_executing": false
    }
   }
  },
  {
   "cell_type": "code",
   "execution_count": 3,
   "outputs": [
    {
     "data": {
      "text/plain": "               -k           \n               ───          \n                β           \n          1 - ℯ             \n────────────────────────────\n⎛     -π⎞ ⎛     -m⋅│b - x̂│⎞\n⎝1 + ℯ  ⎠⋅⎝1 + ℯ           ⎠",
      "text/latex": "$\\displaystyle \\frac{1 - e^{- \\frac{k}{\\beta}}}{\\left(1 + e^{- \\pi}\\right) \\left(1 + e^{- m \\left|{b - \\hat{x}}\\right|}\\right)}$"
     },
     "metadata": {},
     "output_type": "display_data"
    }
   ],
   "source": [
    "sigmoid = 1/(1+exp(-x))\n",
    "alpha = sigmoid.subs(x,m*Abs(xhat-b)) * sigmoid.subs(x,pi) * (1-exp(-k/beta))\n",
    "display(alpha)"
   ],
   "metadata": {
    "collapsed": false,
    "pycharm": {
     "name": "#%%\n",
     "is_executing": false
    }
   }
  },
  {
   "cell_type": "code",
   "execution_count": 17,
   "outputs": [
    {
     "data": {
      "text/plain": "          -k                                           -k                     \n          ───                                          ───                    \n           β                                            β                     \n     R⋅k⋅ℯ                                  k⋅(1 - R)⋅ℯ                       \n- ───────────── + ────────────────────────────────────────────────────────────\n     ⎛     -k ⎞      ⎛                   -k           ⎞                       \n     ⎜     ───⎟      ⎜                   ───          ⎟                       \n   2 ⎜      β ⎟      ⎜                    β           ⎟                       \n  β ⋅⎝1 - ℯ   ⎠    2 ⎜              1 - ℯ             ⎟ ⎛     -π⎞ ⎛     -m⋅│b \n                  β ⋅⎜1 - ────────────────────────────⎟⋅⎝1 + ℯ  ⎠⋅⎝1 + ℯ      \n                     ⎜    ⎛     -π⎞ ⎛     -m⋅│b - x̂│⎞⎟                       \n                     ⎝    ⎝1 + ℯ  ⎠⋅⎝1 + ℯ           ⎠⎠                       \n\n      \n      \n      \n      \n──────\n      \n      \n      \n- x̂│⎞\n     ⎠\n      \n      ",
      "text/latex": "$\\displaystyle - \\frac{R k e^{- \\frac{k}{\\beta}}}{\\beta^{2} \\left(1 - e^{- \\frac{k}{\\beta}}\\right)} + \\frac{k \\left(1 - R\\right) e^{- \\frac{k}{\\beta}}}{\\beta^{2} \\left(1 - \\frac{1 - e^{- \\frac{k}{\\beta}}}{\\left(1 + e^{- \\pi}\\right) \\left(1 + e^{- m \\left|{b - \\hat{x}}\\right|}\\right)}\\right) \\left(1 + e^{- \\pi}\\right) \\left(1 + e^{- m \\left|{b - \\hat{x}}\\right|}\\right)}$"
     },
     "metadata": {},
     "output_type": "display_data"
    },
    {
     "data": {
      "text/plain": "                    m⋅│b - x̂│ + π                  \n                 k⋅ℯ                                \n────────────────────────────────────────────────────\n   ⎛ k        k                                   k⎞\n   ⎜ ─    π + ─                      m⋅│b - x̂│ + ─⎟\n 2 ⎜ β        β    m⋅│b - x̂│ + π                 β⎟\nβ ⋅⎝ℯ  + ℯ      + ℯ               + ℯ              ⎠",
      "text/latex": "$\\displaystyle \\frac{k e^{m \\left|{b - \\hat{x}}\\right| + \\pi}}{\\beta^{2} \\left(e^{\\frac{k}{\\beta}} + e^{\\pi + \\frac{k}{\\beta}} + e^{m \\left|{b - \\hat{x}}\\right| + \\pi} + e^{m \\left|{b - \\hat{x}}\\right| + \\frac{k}{\\beta}}\\right)}$"
     },
     "metadata": {},
     "output_type": "display_data"
    }
   ],
   "source": [
    "display(diff(R*log(alpha)+(1-R)*log(1-alpha),beta))\n",
    "display(simplify(expand(diff(R*log(alpha)+(1-R)*log(1-alpha),beta).subs(R,0))))"
   ],
   "metadata": {
    "collapsed": false,
    "pycharm": {
     "name": "#%%\n",
     "is_executing": false
    }
   }
  },
  {
   "cell_type": "code",
   "execution_count": 36,
   "outputs": [
    {
     "data": {
      "text/plain": "     ⎛               -k           ⎞              ⎛                   -k       \n     ⎜               ───          ⎟              ⎜                   ───      \n     ⎜                β           ⎟              ⎜                    β       \n     ⎜          1 - ℯ             ⎟              ⎜              1 - ℯ         \nR⋅log⎜────────────────────────────⎟ + (1 - R)⋅log⎜1 - ────────────────────────\n     ⎜⎛     -π⎞ ⎛     -m⋅│b - x̂│⎞⎟              ⎜    ⎛     -π⎞ ⎛     -m⋅│b - \n     ⎝⎝1 + ℯ  ⎠⋅⎝1 + ℯ           ⎠⎠              ⎝    ⎝1 + ℯ  ⎠⋅⎝1 + ℯ        \n\n    ⎞\n    ⎟\n    ⎟\n    ⎟\n────⎟\nx̂│⎞⎟\n   ⎠⎠",
      "text/latex": "$\\displaystyle R \\log{\\left(\\frac{1 - e^{- \\frac{k}{\\beta}}}{\\left(1 + e^{- \\pi}\\right) \\left(1 + e^{- m \\left|{b - \\hat{x}}\\right|}\\right)} \\right)} + \\left(1 - R\\right) \\log{\\left(1 - \\frac{1 - e^{- \\frac{k}{\\beta}}}{\\left(1 + e^{- \\pi}\\right) \\left(1 + e^{- m \\left|{b - \\hat{x}}\\right|}\\right)} \\right)}$"
     },
     "metadata": {},
     "output_type": "display_data"
    }
   ],
   "source": [
    "L = R*log(alpha)+(1-R)*log(1-alpha)\n",
    "display(L)"
   ],
   "metadata": {
    "collapsed": false,
    "pycharm": {
     "name": "#%%\n",
     "is_executing": false
    }
   }
  },
  {
   "cell_type": "code",
   "execution_count": 39,
   "outputs": [
    {
     "data": {
      "text/plain": "                                                   ⎛     -k ⎞                 \n                                                   ⎜     ───⎟                 \n     -m⋅│b - x̂│                                   ⎜      β ⎟  -m⋅│b - x̂│    \nR⋅m⋅ℯ           ⋅sign(b - x̂)            m⋅(1 - R)⋅⎝1 - ℯ   ⎠⋅ℯ           ⋅sig\n───────────────────────────── - ──────────────────────────────────────────────\n            -m⋅│b - x̂│         ⎛                   -k           ⎞            \n       1 + ℯ                    ⎜                   ───          ⎟            \n                                ⎜                    β           ⎟            \n                                ⎜              1 - ℯ             ⎟ ⎛     -π⎞ ⎛\n                                ⎜1 - ────────────────────────────⎟⋅⎝1 + ℯ  ⎠⋅⎝\n                                ⎜    ⎛     -π⎞ ⎛     -m⋅│b - x̂│⎞⎟            \n                                ⎝    ⎝1 + ℯ  ⎠⋅⎝1 + ℯ           ⎠⎠            \n\n                  \n                  \n                  \nn(b - x̂)         \n──────────────────\n                  \n                  \n                 2\n     -m⋅│b - x̂│⎞ \n1 + ℯ           ⎠ \n                  \n                  ",
      "text/latex": "$\\displaystyle \\frac{R m e^{- m \\left|{b - \\hat{x}}\\right|} \\operatorname{sign}{\\left(b - \\hat{x} \\right)}}{1 + e^{- m \\left|{b - \\hat{x}}\\right|}} - \\frac{m \\left(1 - R\\right) \\left(1 - e^{- \\frac{k}{\\beta}}\\right) e^{- m \\left|{b - \\hat{x}}\\right|} \\operatorname{sign}{\\left(b - \\hat{x} \\right)}}{\\left(1 - \\frac{1 - e^{- \\frac{k}{\\beta}}}{\\left(1 + e^{- \\pi}\\right) \\left(1 + e^{- m \\left|{b - \\hat{x}}\\right|}\\right)}\\right) \\left(1 + e^{- \\pi}\\right) \\left(1 + e^{- m \\left|{b - \\hat{x}}\\right|}\\right)^{2}}$"
     },
     "metadata": {},
     "output_type": "display_data"
    }
   ],
   "source": [
    "display(collect(diff(L,b),alpha))"
   ],
   "metadata": {
    "collapsed": false,
    "pycharm": {
     "name": "#%%\n",
     "is_executing": false
    }
   }
  },
  {
   "cell_type": "code",
   "execution_count": null,
   "outputs": [],
   "source": [
    "display(diff(L,m))"
   ],
   "metadata": {
    "collapsed": false,
    "pycharm": {
     "name": "#%%\n"
    }
   }
  },
  {
   "cell_type": "code",
   "execution_count": 26,
   "outputs": [
    {
     "data": {
      "text/plain": "⎛   k            k            k                                               \n⎜   ─        π + ─      2⋅π + ─                                               \n⎜   β            β            β        m⋅│b - x̂│ + π        m⋅│b - x̂│ + 2⋅π \n⎝R⋅ℯ  + 2⋅R⋅ℯ      + R⋅ℯ        + 2⋅R⋅ℯ               + 2⋅R⋅ℯ                 \n──────────────────────────────────────────────────────────────────────────────\n                                                                              \n                                                                              \n                                                                              \n                                                                              \n\n                    k                                                         \n       m⋅│b - x̂│ + ─                                                        2\n                    β        2⋅m⋅│b - x̂│ + π        2⋅m⋅│b - x̂│ + 2⋅π       \n+ 2⋅R⋅ℯ               + 2⋅R⋅ℯ                 + 2⋅R⋅ℯ                   + R⋅ℯ \n──────────────────────────────────────────────────────────────────────────────\n                                                                              \n                                                                              \n                                                                              \n                                                                              \n\n              k                         k                           k         \n⋅m⋅│b - x̂│ + ─        m⋅│b - x̂│ + π + ─      2⋅m⋅│b - x̂│ + 2⋅π + ─         \n              β                         β                           β    m⋅│b \n                + 2⋅R⋅ℯ                   - R⋅ℯ                       - ℯ     \n──────────────────────────────────────────────────────────────────────────────\n   2⋅k    k        k        2⋅k                                   k           \n   ───    ─    π + ─    π + ───                      m⋅│b - x̂│ + ─    m⋅│b - \n    β     β        β         β     m⋅│b - x̂│ + π                 β           \n  ℯ    - ℯ  - ℯ      + ℯ        - ℯ               - ℯ               + ℯ       \n\n                                                                              \n                                                                           m⋅│\n- x̂│ + π    m⋅│b - x̂│ + 2⋅π    2⋅m⋅│b - x̂│ + π    2⋅m⋅│b - x̂│ + 2⋅π       \n          - ℯ                 - ℯ                 - ℯ                   + ℯ   \n──────────────────────────────────────────────────────────────────────────────\n      2⋅k                     k                                               \nx̂│ + ───    m⋅│b - x̂│ + π + ─                                               \n       β                      β                                               \n          + ℯ                                                                 \n\n              k                       k                       k               \nb - x̂│ + π + ─    m⋅│b - x̂│ + 2⋅π + ─    2⋅m⋅│b - x̂│ + π + ─    2⋅m⋅│b - x̂\n              β                       β                       β               \n                + ℯ                     + ℯ                     + ℯ           \n──────────────────────────────────────────────────────────────────────────────\n                                                                              \n                                                                              \n                                                                              \n                                                                              \n\n          k⎞                    k\n│ + 2⋅π + ─⎟  -m⋅│b - x̂│ - π + ─\n          β⎟                    β\n           ⎠⋅ℯ                   \n─────────────────────────────────\n                                 \n                                 \n                                 \n                                 ",
      "text/latex": "$\\displaystyle \\frac{\\left(R e^{\\frac{k}{\\beta}} + 2 R e^{\\pi + \\frac{k}{\\beta}} + R e^{2 \\pi + \\frac{k}{\\beta}} + 2 R e^{m \\left|{b - \\hat{x}}\\right| + \\pi} + 2 R e^{m \\left|{b - \\hat{x}}\\right| + 2 \\pi} + 2 R e^{m \\left|{b - \\hat{x}}\\right| + \\frac{k}{\\beta}} + 2 R e^{2 m \\left|{b - \\hat{x}}\\right| + \\pi} + 2 R e^{2 m \\left|{b - \\hat{x}}\\right| + 2 \\pi} + R e^{2 m \\left|{b - \\hat{x}}\\right| + \\frac{k}{\\beta}} + 2 R e^{m \\left|{b - \\hat{x}}\\right| + \\pi + \\frac{k}{\\beta}} - R e^{2 m \\left|{b - \\hat{x}}\\right| + 2 \\pi + \\frac{k}{\\beta}} - e^{m \\left|{b - \\hat{x}}\\right| + \\pi} - e^{m \\left|{b - \\hat{x}}\\right| + 2 \\pi} - e^{2 m \\left|{b - \\hat{x}}\\right| + \\pi} - e^{2 m \\left|{b - \\hat{x}}\\right| + 2 \\pi} + e^{m \\left|{b - \\hat{x}}\\right| + \\pi + \\frac{k}{\\beta}} + e^{m \\left|{b - \\hat{x}}\\right| + 2 \\pi + \\frac{k}{\\beta}} + e^{2 m \\left|{b - \\hat{x}}\\right| + \\pi + \\frac{k}{\\beta}} + e^{2 m \\left|{b - \\hat{x}}\\right| + 2 \\pi + \\frac{k}{\\beta}}\\right) e^{- m \\left|{b - \\hat{x}}\\right| - \\pi + \\frac{k}{\\beta}}}{e^{\\frac{2 k}{\\beta}} - e^{\\frac{k}{\\beta}} - e^{\\pi + \\frac{k}{\\beta}} + e^{\\pi + \\frac{2 k}{\\beta}} - e^{m \\left|{b - \\hat{x}}\\right| + \\pi} - e^{m \\left|{b - \\hat{x}}\\right| + \\frac{k}{\\beta}} + e^{m \\left|{b - \\hat{x}}\\right| + \\frac{2 k}{\\beta}} + e^{m \\left|{b - \\hat{x}}\\right| + \\pi + \\frac{k}{\\beta}}}$"
     },
     "metadata": {},
     "output_type": "display_data"
    }
   ],
   "source": [
    "dLdalpha = R/alpha + (1-R)/(1-alpha)\n",
    "display(simplify(expand(dLdalpha)))"
   ],
   "metadata": {
    "collapsed": false,
    "pycharm": {
     "name": "#%%\n",
     "is_executing": false
    }
   }
  }
 ],
 "metadata": {
  "language_info": {
   "codemirror_mode": {
    "name": "ipython",
    "version": 2
   },
   "file_extension": ".py",
   "mimetype": "text/x-python",
   "name": "python",
   "nbconvert_exporter": "python",
   "pygments_lexer": "ipython2",
   "version": "2.7.6"
  },
  "kernelspec": {
   "name": "python3",
   "language": "python",
   "display_name": "Python 3"
  },
  "pycharm": {
   "stem_cell": {
    "cell_type": "raw",
    "source": [],
    "metadata": {
     "collapsed": false
    }
   }
  }
 },
 "nbformat": 4,
 "nbformat_minor": 0
}