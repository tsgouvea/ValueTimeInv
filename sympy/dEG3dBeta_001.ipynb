{
 "cells": [
  {
   "cell_type": "code",
   "execution_count": 5,
   "outputs": [],
   "source": [
    "from sympy import *\n",
    "from sympy.printing.pycode import NumPyPrinter\n",
    "from IPython.display import display\n",
    "init_printing(use_latex='mathjax')\n",
    "\n",
    "# pB, K, d, b, r, eg, rho, tau, m = symbols('P(B), K, d, beta, r, E(G|K), rho, tau, m')\n",
    "k,m,rho,tau,d,beta,B,q = symbols('k,m,rho,tau,d,beta,B,Q')"
   ],
   "metadata": {
    "collapsed": false,
    "pycharm": {
     "name": "#%%\n",
     "is_executing": false
    }
   }
  },
  {
   "cell_type": "code",
   "execution_count": 10,
   "outputs": [
    {
     "data": {
      "text/plain": "  ⎛     -k ⎞                               \n  ⎜     ───⎟                               \n  ⎜      β ⎟                               \nQ⋅⎝1 - ℯ   ⎠⋅(-β⋅ρ + m) - ρ⋅(k⋅(1 - Q) + τ)",
      "text/latex": "$\\displaystyle Q \\left(1 - e^{- \\frac{k}{\\beta}}\\right) \\left(- \\beta \\rho + m\\right) - \\rho \\left(k \\left(1 - Q\\right) + \\tau\\right)$"
     },
     "metadata": {},
     "output_type": "display_data"
    }
   ],
   "source": [
    "EG = q*(1-exp(-k/beta))*(m-rho*beta)-rho*(tau+(1-q)*k)\n",
    "display(EG)"
   ],
   "metadata": {
    "collapsed": false,
    "pycharm": {
     "name": "#%%\n",
     "is_executing": false
    }
   }
  },
  {
   "cell_type": "code",
   "execution_count": 37,
   "outputs": [
    {
     "data": {
      "text/plain": "                                   -k \n      ⎛     -k ⎞                   ───\n      ⎜     ───⎟                    β \n      ⎜      β ⎟   Q⋅k⋅(-β⋅ρ + m)⋅ℯ   \n- Q⋅ρ⋅⎝1 - ℯ   ⎠ - ───────────────────\n                             2        \n                            β         ",
      "text/latex": "$\\displaystyle - Q \\rho \\left(1 - e^{- \\frac{k}{\\beta}}\\right) - \\frac{Q k \\left(- \\beta \\rho + m\\right) e^{- \\frac{k}{\\beta}}}{\\beta^{2}}$"
     },
     "metadata": {},
     "output_type": "display_data"
    },
    {
     "data": {
      "text/plain": "                         -k           -k \n            -k           ───          ───\n            ───           β            β \n             β    Q⋅k⋅ρ⋅ℯ      Q⋅k⋅m⋅ℯ   \n-Q⋅ρ + Q⋅ρ⋅ℯ    + ────────── - ──────────\n                      β             2    \n                                   β     ",
      "text/latex": "$\\displaystyle - Q \\rho + Q \\rho e^{- \\frac{k}{\\beta}} + \\frac{Q k \\rho e^{- \\frac{k}{\\beta}}}{\\beta} - \\frac{Q k m e^{- \\frac{k}{\\beta}}}{\\beta^{2}}$"
     },
     "metadata": {},
     "output_type": "display_data"
    },
    {
     "data": {
      "text/plain": "  ⎛                   -k         -k ⎞\n  ⎜        -k         ───        ───⎟\n  ⎜        ───         β          β ⎟\n  ⎜         β    k⋅ρ⋅ℯ      k⋅m⋅ℯ   ⎟\nQ⋅⎜-ρ + ρ⋅ℯ    + ──────── - ────────⎟\n  ⎜                 β           2   ⎟\n  ⎝                            β    ⎠",
      "text/latex": "$\\displaystyle Q \\left(- \\rho + \\rho e^{- \\frac{k}{\\beta}} + \\frac{k \\rho e^{- \\frac{k}{\\beta}}}{\\beta} - \\frac{k m e^{- \\frac{k}{\\beta}}}{\\beta^{2}}\\right)$"
     },
     "metadata": {},
     "output_type": "display_data"
    },
    {
     "data": {
      "text/plain": "  ⎛                      -k ⎞\n  ⎜                      ───⎟\n  ⎜     ⎛    k⋅ρ   k⋅m⎞   β ⎟\nQ⋅⎜-ρ + ⎜ρ + ─── - ───⎟⋅ℯ   ⎟\n  ⎜     ⎜     β      2⎟     ⎟\n  ⎝     ⎝           β ⎠     ⎠",
      "text/latex": "$\\displaystyle Q \\left(- \\rho + \\left(\\rho + \\frac{k \\rho}{\\beta} - \\frac{k m}{\\beta^{2}}\\right) e^{- \\frac{k}{\\beta}}\\right)$"
     },
     "metadata": {},
     "output_type": "display_data"
    },
    {
     "data": {
      "text/plain": "  ⎛                       -k ⎞\n  ⎜                       ───⎟\n  ⎜     ⎛  ⎛ρ   m ⎞    ⎞   β ⎟\nQ⋅⎜-ρ + ⎜k⋅⎜─ - ──⎟ + ρ⎟⋅ℯ   ⎟\n  ⎜     ⎜  ⎜β    2⎟    ⎟     ⎟\n  ⎝     ⎝  ⎝    β ⎠    ⎠     ⎠",
      "text/latex": "$\\displaystyle Q \\left(- \\rho + \\left(k \\left(\\frac{\\rho}{\\beta} - \\frac{m}{\\beta^{2}}\\right) + \\rho\\right) e^{- \\frac{k}{\\beta}}\\right)$"
     },
     "metadata": {},
     "output_type": "display_data"
    }
   ],
   "source": [
    "ddb = diff(EG,beta)\n",
    "display(ddb)\n",
    "display(expand(ddb))\n",
    "display(collect(expand(ddb),q))\n",
    "display(collect(collect(expand(ddb),q),exp(-k/beta)))\n",
    "display(collect(collect(collect(expand(ddb),q),exp(-k/beta)),(k)))\n",
    "# display(collect(collect(expand(ddb),q),rho))"
   ],
   "metadata": {
    "collapsed": false,
    "pycharm": {
     "name": "#%%\n",
     "is_executing": false
    }
   }
  },
  {
   "cell_type": "code",
   "execution_count": 39,
   "outputs": [
    {
     "data": {
      "text/plain": "                         -k           -k \n            -k           ───          ───\n            ───           β            β \n             β    Q⋅k⋅ρ⋅ℯ      Q⋅k⋅m⋅ℯ   \n-Q⋅ρ + Q⋅ρ⋅ℯ    + ────────── - ──────────\n                      β             2    \n                                   β     ",
      "text/latex": "$\\displaystyle - Q \\rho + Q \\rho e^{- \\frac{k}{\\beta}} + \\frac{Q k \\rho e^{- \\frac{k}{\\beta}}}{\\beta} - \\frac{Q k m e^{- \\frac{k}{\\beta}}}{\\beta^{2}}$"
     },
     "metadata": {},
     "output_type": "display_data"
    },
    {
     "data": {
      "text/plain": "  ⎛                   -k         -k ⎞\n  ⎜        -k         ───        ───⎟\n  ⎜        ───         β          β ⎟\n  ⎜         β    k⋅ρ⋅ℯ      k⋅m⋅ℯ   ⎟\nQ⋅⎜-ρ + ρ⋅ℯ    + ──────── - ────────⎟\n  ⎜                 β           2   ⎟\n  ⎝                            β    ⎠",
      "text/latex": "$\\displaystyle Q \\left(- \\rho + \\rho e^{- \\frac{k}{\\beta}} + \\frac{k \\rho e^{- \\frac{k}{\\beta}}}{\\beta} - \\frac{k m e^{- \\frac{k}{\\beta}}}{\\beta^{2}}\\right)$"
     },
     "metadata": {},
     "output_type": "display_data"
    },
    {
     "data": {
      "text/plain": "  ⎛  ⎛               -k ⎞        -k ⎞\n  ⎜  ⎜      -k       ───⎟        ───⎟\n  ⎜  ⎜      ───       β ⎟         β ⎟\n  ⎜  ⎜       β    k⋅ℯ   ⎟   k⋅m⋅ℯ   ⎟\nQ⋅⎜ρ⋅⎜-1 + ℯ    + ──────⎟ - ────────⎟\n  ⎜  ⎝              β   ⎠       2   ⎟\n  ⎝                            β    ⎠",
      "text/latex": "$\\displaystyle Q \\left(\\rho \\left(-1 + e^{- \\frac{k}{\\beta}} + \\frac{k e^{- \\frac{k}{\\beta}}}{\\beta}\\right) - \\frac{k m e^{- \\frac{k}{\\beta}}}{\\beta^{2}}\\right)$"
     },
     "metadata": {},
     "output_type": "display_data"
    }
   ],
   "source": [
    "display(expand(ddb))\n",
    "display(collect(expand(ddb),q))\n",
    "display(collect(collect(expand(ddb),q),rho))\n",
    "# display(collect(collect(collect(expand(ddb),q),exp(-k/beta)),(rho)))"
   ],
   "metadata": {
    "collapsed": false,
    "pycharm": {
     "name": "#%%\n",
     "is_executing": false
    }
   }
  },
  {
   "cell_type": "code",
   "execution_count": 29,
   "outputs": [
    {
     "data": {
      "text/plain": "                   -k         -k \n        -k         ───        ───\n        ───         β          β \n         β    k⋅ρ⋅ℯ      k⋅m⋅ℯ   \n-ρ + ρ⋅ℯ    + ──────── - ────────\n                 β           2   \n                            β    ",
      "text/latex": "$\\displaystyle - \\rho + \\rho e^{- \\frac{k}{\\beta}} + \\frac{k \\rho e^{- \\frac{k}{\\beta}}}{\\beta} - \\frac{k m e^{- \\frac{k}{\\beta}}}{\\beta^{2}}$"
     },
     "metadata": {},
     "output_type": "display_data"
    },
    {
     "data": {
      "text/plain": "  ⎛               -k ⎞        -k \n  ⎜      -k       ───⎟        ───\n  ⎜      ───       β ⎟         β \n  ⎜       β    k⋅ℯ   ⎟   k⋅m⋅ℯ   \nρ⋅⎜-1 + ℯ    + ──────⎟ - ────────\n  ⎝              β   ⎠       2   \n                            β    ",
      "text/latex": "$\\displaystyle \\rho \\left(-1 + e^{- \\frac{k}{\\beta}} + \\frac{k e^{- \\frac{k}{\\beta}}}{\\beta}\\right) - \\frac{k m e^{- \\frac{k}{\\beta}}}{\\beta^{2}}$"
     },
     "metadata": {},
     "output_type": "display_data"
    }
   ],
   "source": [
    "display(simplify(expand(ddb)/q))\n",
    "display(collect(simplify(expand(ddb)/q),rho))"
   ],
   "metadata": {
    "collapsed": false,
    "pycharm": {
     "name": "#%%\n",
     "is_executing": false
    }
   }
  }
 ],
 "metadata": {
  "language_info": {
   "codemirror_mode": {
    "name": "ipython",
    "version": 2
   },
   "file_extension": ".py",
   "mimetype": "text/x-python",
   "name": "python",
   "nbconvert_exporter": "python",
   "pygments_lexer": "ipython2",
   "version": "2.7.6"
  },
  "kernelspec": {
   "name": "python3",
   "language": "python",
   "display_name": "Python 3"
  },
  "pycharm": {
   "stem_cell": {
    "cell_type": "raw",
    "source": [],
    "metadata": {
     "collapsed": false
    }
   }
  }
 },
 "nbformat": 4,
 "nbformat_minor": 0
}