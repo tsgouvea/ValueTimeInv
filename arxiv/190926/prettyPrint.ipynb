{
 "cells": [
  {
   "cell_type": "code",
   "execution_count": 2,
   "outputs": [
    {
     "name": "stdout",
     "text": [
      "(1+sy.exp(-m*abs(x-b)))**(-1)\n"
     ],
     "output_type": "stream"
    },
    {
     "data": {
      "text/plain": "<IPython.core.display.Latex object>",
      "text/latex": "\frac{1}{}"
     },
     "metadata": {},
     "output_type": "display_data"
    }
   ],
   "source": [
    "from IPython.display import display, Latex\n",
    "\n",
    "import sympy as sy\n",
    "import numpy as np\n",
    "\n",
    "sy.init_printing(use_latex=True)\n",
    "\n",
    "x,m,b,B = sy.symbols('x,m,b,B')\n",
    "P_B_g_x = \"(1+sy.exp(-m*abs(x-b)))**(-1)\"\n",
    "print(P_B_g_x)\n",
    "\n",
    "\n",
    "display(Latex('\\frac{1}{}'))"
   ],
   "metadata": {
    "collapsed": false,
    "pycharm": {
     "name": "#%%\n",
     "is_executing": false
    }
   }
  },
  {
   "cell_type": "code",
   "execution_count": 4,
   "outputs": [
    {
     "data": {
      "text/plain": "x",
      "text/latex": "$\\displaystyle x$"
     },
     "metadata": {},
     "output_type": "display_data"
    },
    {
     "data": {
      "text/plain": "Integral(exp(x)*cos(x), x)",
      "text/latex": "$\\displaystyle \\int e^{x} \\cos{\\left(x \\right)}\\, dx$"
     },
     "metadata": {},
     "output_type": "display_data"
    },
    {
     "data": {
      "text/plain": "'$$Integral(exp(x)*cos(x), x) = exp(x)*sin(x)/2 + exp(x)*cos(x)/2$$'"
     },
     "metadata": {},
     "output_type": "display_data"
    },
    {
     "data": {
      "text/plain": "'$$Derivative(exp(x)*cos(x), x) = -exp(x)*sin(x) + exp(x)*cos(x)$$'"
     },
     "metadata": {},
     "output_type": "display_data"
    }
   ],
   "source": [
    "from sympy import *\n",
    "\n",
    "x = symbols('x')\n",
    "display(x)\n",
    "\n",
    "int_x = Integral(cos(x)*exp(x), x)\n",
    "display(int_x)\n",
    "result = \"$${} = {}$$\".format((int_x), (int_x.doit()))\n",
    "display(result)\n",
    "\n",
    "derv_x = Derivative(cos(x)*exp(x), x)\n",
    "result = \"$${} = {}$$\".format((derv_x), (derv_x.doit()))\n",
    "display(result)"
   ],
   "metadata": {
    "collapsed": false,
    "pycharm": {
     "name": "#%%\n",
     "is_executing": false
    }
   }
  },
  {
   "cell_type": "code",
   "execution_count": 7,
   "outputs": [
    {
     "data": {
      "text/plain": " 2         \na  + √b    \n─────── = 0\n log(x)    ",
      "image/png": "[encoded data removed]",
      "text/latex": "$\\displaystyle \\frac{a^{2} + \\sqrt{b}}{\\log{\\left(x \\right)}} = 0$"
     },
     "metadata": {},
     "output_type": "display_data"
    }
   ],
   "source": [
    "from sympy import *\n",
    "init_printing(use_latex=True)\n",
    "\n",
    "eq = Eq(sympify('(a**2 + sqrt(b)) / log(x)'))\n",
    "display(eq)"
   ],
   "metadata": {
    "collapsed": false,
    "pycharm": {
     "name": "#%%\n",
     "is_executing": false
    }
   }
  }
 ],
 "metadata": {
  "language_info": {
   "codemirror_mode": {
    "name": "ipython",
    "version": 2
   },
   "file_extension": ".py",
   "mimetype": "text/x-python",
   "name": "python",
   "nbconvert_exporter": "python",
   "pygments_lexer": "ipython2",
   "version": "2.7.6"
  },
  "kernelspec": {
   "name": "python3",
   "language": "python",
   "display_name": "Python 3"
  },
  "pycharm": {
   "stem_cell": {
    "cell_type": "raw",
    "source": [],
    "metadata": {
     "collapsed": false
    }
   }
  }
 },
 "nbformat": 4,
 "nbformat_minor": 0
}