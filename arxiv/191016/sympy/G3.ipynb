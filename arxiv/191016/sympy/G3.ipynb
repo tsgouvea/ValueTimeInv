{
 "cells": [
  {
   "cell_type": "code",
   "execution_count": 1,
   "outputs": [],
   "source": [
    "from sympy import *\n",
    "from sympy.printing.pycode import NumPyPrinter\n",
    "from IPython.display import display\n",
    "init_printing(use_latex='mathjax')"
   ],
   "metadata": {
    "collapsed": false,
    "pycharm": {
     "name": "#%%\n",
     "is_executing": false
    }
   }
  },
  {
   "cell_type": "code",
   "execution_count": 72,
   "outputs": [],
   "source": [
    "pB, K, d, b, r, eg, rho, tau, m = symbols('P(B), K, d, beta, r, E(G|K), rho, tau, m')"
   ],
   "metadata": {
    "collapsed": false,
    "pycharm": {
     "name": "#%%\n",
     "is_executing": false
    }
   }
  },
  {
   "cell_type": "code",
   "execution_count": 73,
   "outputs": [
    {
     "data": {
      "text/plain": "     ⎛     -K ⎞                             ⎛       ⎛     -K ⎞    ⎞\n     ⎜     ───⎟                             ⎜       ⎜     ───⎟    ⎟\n     ⎜      β ⎟                             ⎜       ⎜      β ⎟    ⎟\nP(B)⋅⎝1 - ℯ   ⎠⋅(m - ρ⋅(β + τ)) - ρ⋅(K + τ)⋅⎝- P(B)⋅⎝1 - ℯ   ⎠ + 1⎠",
      "text/latex": "$\\displaystyle P(B) \\left(1 - e^{- \\frac{K}{\\beta}}\\right) \\left(m - \\rho \\left(\\beta + \\tau\\right)\\right) - \\rho \\left(K + \\tau\\right) \\left(- P(B) \\left(1 - e^{- \\frac{K}{\\beta}}\\right) + 1\\right)$"
     },
     "metadata": {},
     "output_type": "display_data"
    },
    {
     "data": {
      "text/plain": "                     -K                               -K                     -\n                     ───                              ───                    ─\n                      β                                β                      \nK⋅P(B)⋅ρ - K⋅P(B)⋅ρ⋅ℯ    - K⋅ρ - P(B)⋅β⋅ρ + P(B)⋅β⋅ρ⋅ℯ    + P(B)⋅m - P(B)⋅m⋅ℯ \n\nK       \n──      \nβ       \n   - ρ⋅τ",
      "text/latex": "$\\displaystyle K P(B) \\rho - K P(B) \\rho e^{- \\frac{K}{\\beta}} - K \\rho - P(B) \\beta \\rho + P(B) \\beta \\rho e^{- \\frac{K}{\\beta}} + P(B) m - P(B) m e^{- \\frac{K}{\\beta}} - \\rho \\tau$"
     },
     "metadata": {},
     "output_type": "display_data"
    },
    {
     "data": {
      "text/plain": "     ⎛     -K ⎞                             ⎛       ⎛     -K ⎞    ⎞\n     ⎜     ───⎟                             ⎜       ⎜     ───⎟    ⎟\n     ⎜      β ⎟                             ⎜       ⎜      β ⎟    ⎟\nP(B)⋅⎝1 - ℯ   ⎠⋅(m - ρ⋅(β + τ)) - ρ⋅(K + τ)⋅⎝- P(B)⋅⎝1 - ℯ   ⎠ + 1⎠",
      "text/latex": "$\\displaystyle P(B) \\left(1 - e^{- \\frac{K}{\\beta}}\\right) \\left(m - \\rho \\left(\\beta + \\tau\\right)\\right) - \\rho \\left(K + \\tau\\right) \\left(- P(B) \\left(1 - e^{- \\frac{K}{\\beta}}\\right) + 1\\right)$"
     },
     "metadata": {},
     "output_type": "display_data"
    }
   ],
   "source": [
    "EG = pB*(1-exp(-K/b))*(m-rho*(tau+b))+(1-pB*(1-exp(-K/b)))*(-rho*(tau+K))\n",
    "display(EG)\n",
    "display(expand(EG))\n",
    "display(nsimplify(EG))"
   ],
   "metadata": {
    "collapsed": false,
    "pycharm": {
     "name": "#%%\n",
     "is_executing": false
    }
   }
  },
  {
   "cell_type": "code",
   "execution_count": 75,
   "outputs": [
    {
     "data": {
      "text/plain": "⎛                                       ⎛       ⎛     K⎞    K⎞⎞  -K \n⎜                                       ⎜       ⎜     ─⎟    ─⎟⎟  ───\n⎜                                       ⎜       ⎜     β⎟    β⎟⎟   β \n⎝P(B)⋅(m + ρ⋅(K + τ) - ρ⋅(β + τ)) + β⋅ρ⋅⎝- P(B)⋅⎝1 - ℯ ⎠ - ℯ ⎠⎠⋅ℯ   \n────────────────────────────────────────────────────────────────────\n                                 β                                  ",
      "text/latex": "$\\displaystyle \\frac{\\left(P(B) \\left(m + \\rho \\left(K + \\tau\\right) - \\rho \\left(\\beta + \\tau\\right)\\right) + \\beta \\rho \\left(- P(B) \\left(1 - e^{\\frac{K}{\\beta}}\\right) - e^{\\frac{K}{\\beta}}\\right)\\right) e^{- \\frac{K}{\\beta}}}{\\beta}$"
     },
     "metadata": {},
     "output_type": "display_data"
    }
   ],
   "source": [
    "\n",
    "# pr = r * (pB * exp(-t/b)/b) +  (1-r) * (1-pB + pB * exp(-t/b))\n",
    "# EG = pB * (exp(-K/b)*(rho*(b-K)-1)+rho*(b+K)+1)-rho*(K+tau)\n",
    "# # EG = eq()\n",
    "# display(EG)\n",
    "# # print(NumPyPrinter(EG))\n",
    "# #%\n",
    "# display(diff(EG,K))\n",
    "display(simplify(diff(EG,K)))\n",
    "# \n",
    "# printing.pycode(nsimplify(EG))\n",
    "# "
   ],
   "metadata": {
    "collapsed": false,
    "pycharm": {
     "name": "#%%\n",
     "is_executing": false
    }
   }
  },
  {
   "cell_type": "code",
   "execution_count": 70,
   "outputs": [
    {
     "data": {
      "text/plain": "⎡              ⎛            2⋅β⋅ρ - m⎞            ⎤\n⎢              ⎜            ─────────⎟            ⎥\n⎢              ⎜               β⋅ρ   ⎟            ⎥\n⎢              ⎜(P(B) - 1)⋅ℯ         ⎟            ⎥\n⎢- β⋅ρ⋅LambertW⎜─────────────────────⎟ + 2⋅β⋅ρ - m⎥\n⎢              ⎝         P(B)        ⎠            ⎥\n⎢─────────────────────────────────────────────────⎥\n⎣                        ρ                        ⎦",
      "text/latex": "$\\displaystyle \\left[ \\frac{- \\beta \\rho \\operatorname{LambertW}{\\left(\\frac{\\left(P(B) - 1\\right) e^{\\frac{2 \\beta \\rho - m}{\\beta \\rho}}}{P(B)} \\right)} + 2 \\beta \\rho - m}{\\rho}\\right]$"
     },
     "metadata": {},
     "output_type": "display_data"
    }
   ],
   "source": [
    "# display(solve(diff(EG,K),K))\n",
    "# display(latex(EG))\n",
    "# display(latex(expand(diff(EG,K))))\n",
    "# "
   ],
   "metadata": {
    "collapsed": false,
    "pycharm": {
     "name": "#%%\n",
     "is_executing": false
    }
   }
  },
  {
   "cell_type": "code",
   "execution_count": 77,
   "outputs": [
    {
     "data": {
      "text/plain": "⎡              ⎛            2⋅β⋅ρ - m⎞            ⎤\n⎢              ⎜            ─────────⎟            ⎥\n⎢              ⎜               β⋅ρ   ⎟            ⎥\n⎢              ⎜(P(B) - 1)⋅ℯ         ⎟            ⎥\n⎢- β⋅ρ⋅LambertW⎜─────────────────────⎟ + 2⋅β⋅ρ - m⎥\n⎢              ⎝         P(B)        ⎠            ⎥\n⎢─────────────────────────────────────────────────⎥\n⎣                        ρ                        ⎦",
      "text/latex": "$\\displaystyle \\left[ \\frac{- \\beta \\rho \\operatorname{LambertW}{\\left(\\frac{\\left(P(B) - 1\\right) e^{\\frac{2 \\beta \\rho - m}{\\beta \\rho}}}{P(B)} \\right)} + 2 \\beta \\rho - m}{\\rho}\\right]$"
     },
     "metadata": {},
     "output_type": "display_data"
    },
    {
     "name": "stdout",
     "text": [
      "  # Not supported in Python:\n  # LambertW\n[(-beta*rho*LambertW((P(B) - 1)*exp((2*beta*rho - m)/(beta*rho))/P(B)) + 2*beta*rho - m)/rho]\n"
     ],
     "output_type": "stream"
    }
   ],
   "source": [
    "kEG = solve(diff(EG,K),K)# if 'kEG' not in locals() else kEG\n",
    "display((kEG))\n",
    "# NumPyPrinter(kEG)\n",
    "print(printing.pycode(kEG))\n",
    "# "
   ],
   "metadata": {
    "collapsed": false,
    "pycharm": {
     "name": "#%%\n",
     "is_executing": false
    }
   }
  },
  {
   "cell_type": "code",
   "execution_count": 56,
   "outputs": [],
   "source": [
    "# epdf = exp(d/-b)/b\n",
    "# display(epdf)\n",
    "# # refine(epdf,Q.positive(d))\n",
    "# ecdf = integrate(epdf,(d,0))\n",
    "# display(ecdf)"
   ],
   "metadata": {
    "collapsed": false,
    "pycharm": {
     "name": "#%%\n",
     "is_executing": false
    }
   }
  },
  {
   "cell_type": "code",
   "execution_count": null,
   "outputs": [],
   "source": [],
   "metadata": {
    "collapsed": false,
    "pycharm": {
     "name": "#%%\n"
    }
   }
  }
 ],
 "metadata": {
  "language_info": {
   "codemirror_mode": {
    "name": "ipython",
    "version": 2
   },
   "file_extension": ".py",
   "mimetype": "text/x-python",
   "name": "python",
   "nbconvert_exporter": "python",
   "pygments_lexer": "ipython2",
   "version": "2.7.6"
  },
  "kernelspec": {
   "name": "python3",
   "language": "python",
   "display_name": "Python 3"
  },
  "pycharm": {
   "stem_cell": {
    "cell_type": "raw",
    "source": [],
    "metadata": {
     "collapsed": false
    }
   }
  }
 },
 "nbformat": 4,
 "nbformat_minor": 0
}