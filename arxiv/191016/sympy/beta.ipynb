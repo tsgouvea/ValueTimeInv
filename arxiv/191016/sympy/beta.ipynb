{
 "cells": [
  {
   "cell_type": "code",
   "execution_count": 39,
   "metadata": {
    "collapsed": true,
    "pycharm": {
     "is_executing": false
    }
   },
   "outputs": [],
   "source": [
    "from sympy import *\n",
    "from IPython.display import display\n",
    "init_printing(use_latex='mathjax')"
   ]
  },
  {
   "cell_type": "code",
   "execution_count": 40,
   "outputs": [],
   "source": [
    "p, t, b, r, pr, l = symbols('P(B), t, beta, r, P(R|t), L')"
   ],
   "metadata": {
    "collapsed": false,
    "pycharm": {
     "name": "#%%\n",
     "is_executing": false
    }
   }
  },
  {
   "cell_type": "code",
   "execution_count": 41,
   "outputs": [
    {
     "data": {
      "text/plain": "                 -t                                   \n                 ───           ⎛              -t     ⎞\n                  β            ⎜              ───    ⎟\n         P(B)⋅r⋅ℯ              ⎜               β     ⎟\nP(R|t) = ─────────── + (1 - r)⋅⎝-P(B) + P(B)⋅ℯ    + 1⎠\n              β                                       ",
      "text/latex": "$\\displaystyle P(R|t) = \\frac{P(B) r e^{- \\frac{t}{\\beta}}}{\\beta} + \\left(1 - r\\right) \\left(- P(B) + P(B) e^{- \\frac{t}{\\beta}} + 1\\right)$"
     },
     "metadata": {},
     "output_type": "display_data"
    },
    {
     "data": {
      "text/plain": "  ⎛         ⎛           ⎛                   t⎞        ⎞  -t ⎞\n  ⎜         ⎜           ⎜                   ─⎟        ⎟  ───⎟\n  ⎜         ⎜           ⎜                   β⎟        ⎟   β ⎟\n∂ ⎜         ⎝P(B)⋅r - β⋅⎝P(B) + (1 - P(B))⋅ℯ ⎠⋅(r - 1)⎠⋅ℯ   ⎟\n──⎜P(R|t) = ────────────────────────────────────────────────⎟\n∂β⎝                                β                        ⎠",
      "text/latex": "$\\displaystyle \\frac{\\partial}{\\partial \\beta} P(R|t) = \\frac{\\left(P(B) r - \\beta \\left(P(B) + \\left(1 - P(B)\\right) e^{\\frac{t}{\\beta}}\\right) \\left(r - 1\\right)\\right) e^{- \\frac{t}{\\beta}}}{\\beta}$"
     },
     "metadata": {},
     "output_type": "display_data"
    },
    {
     "data": {
      "text/plain": "  ⎛               -t ⎞\n  ⎜               ───⎟\n  ⎜                β ⎟\n∂ ⎜         P(B)⋅ℯ   ⎟\n──⎜P(R|t) = ─────────⎟\n∂β⎝             β    ⎠",
      "text/latex": "$\\displaystyle \\frac{\\partial}{\\partial \\beta} P(R|t) = \\frac{P(B) e^{- \\frac{t}{\\beta}}}{\\beta}$"
     },
     "metadata": {},
     "output_type": "display_data"
    },
    {
     "data": {
      "text/plain": "  ⎛                       -t     ⎞\n  ⎜                       ───    ⎟\n∂ ⎜                        β     ⎟\n──⎝P(R|t) = -P(B) + P(B)⋅ℯ    + 1⎠\n∂β                                ",
      "text/latex": "$\\displaystyle \\frac{\\partial}{\\partial \\beta} P(R|t) = - P(B) + P(B) e^{- \\frac{t}{\\beta}} + 1$"
     },
     "metadata": {},
     "output_type": "display_data"
    }
   ],
   "source": [
    "# pr = r * (p * exp(-t/b)/b) +  (1-r) * (1-p + p * exp(-t/b))\n",
    "PR = Eq(pr,r * (p * exp(-t/b)/b) +  (1-r) * (1-p + p * exp(-t/b)))\n",
    "display(PR)\n",
    "#%\n",
    "display(simplify(diff(PR,b)))\n",
    "#%\n",
    "display(simplify(diff((PR),b).replace(r,1)))\n",
    "#%\n",
    "display(simplify(diff((PR),b).replace(r,0)))"
   ],
   "metadata": {
    "collapsed": false,
    "pycharm": {
     "name": "#%%\n",
     "is_executing": false
    }
   }
  },
  {
   "cell_type": "code",
   "execution_count": 42,
   "outputs": [
    {
     "data": {
      "text/plain": "   ⎛        -t                                   ⎞\n   ⎜        ───           ⎛              -t     ⎞⎟\n   ⎜         β            ⎜              ───    ⎟⎟\n   ⎜P(B)⋅r⋅ℯ              ⎜               β     ⎟⎟\nlog⎜─────────── + (1 - r)⋅⎝-P(B) + P(B)⋅ℯ    + 1⎠⎟\n   ⎝     β                                       ⎠",
      "text/latex": "$\\displaystyle \\log{\\left(\\frac{P(B) r e^{- \\frac{t}{\\beta}}}{\\beta} + \\left(1 - r\\right) \\left(- P(B) + P(B) e^{- \\frac{t}{\\beta}} + 1\\right) \\right)}$"
     },
     "metadata": {},
     "output_type": "display_data"
    },
    {
     "data": {
      "text/plain": "       P(B)⋅(-β⋅(r + t⋅(r - 1)) + r⋅t)        \n──────────────────────────────────────────────\n   ⎛           ⎛                   t⎞        ⎞\n   ⎜           ⎜                   ─⎟        ⎟\n 2 ⎜           ⎜                   β⎟        ⎟\nβ ⋅⎝P(B)⋅r - β⋅⎝P(B) + (1 - P(B))⋅ℯ ⎠⋅(r - 1)⎠",
      "text/latex": "$\\displaystyle \\frac{P(B) \\left(- \\beta \\left(r + t \\left(r - 1\\right)\\right) + r t\\right)}{\\beta^{2} \\left(P(B) r - \\beta \\left(P(B) + \\left(1 - P(B)\\right) e^{\\frac{t}{\\beta}}\\right) \\left(r - 1\\right)\\right)}$"
     },
     "metadata": {},
     "output_type": "display_data"
    },
    {
     "data": {
      "text/plain": "-β + t\n──────\n   2  \n  β   ",
      "text/latex": "$\\displaystyle \\frac{- \\beta + t}{\\beta^{2}}$"
     },
     "metadata": {},
     "output_type": "display_data"
    },
    {
     "data": {
      "text/plain": "          P(B)⋅t         \n─────────────────────────\n   ⎛                   t⎞\n   ⎜                   ─⎟\n 2 ⎜                   β⎟\nβ ⋅⎝P(B) + (1 - P(B))⋅ℯ ⎠",
      "text/latex": "$\\displaystyle \\frac{P(B) t}{\\beta^{2} \\left(P(B) + \\left(1 - P(B)\\right) e^{\\frac{t}{\\beta}}\\right)}$"
     },
     "metadata": {},
     "output_type": "display_data"
    }
   ],
   "source": [
    "# pr = r * (p * exp(-t/b)/b) +  (1-r) * (1-p + p * exp(-t/b))\n",
    "# L = Eq(l,log(r * (p * exp(-t/b)/b) +  (1-r) * (1-p + p * exp(-t/b))))\n",
    "L = log(r * (p * exp(-t/b)/b) +  (1-r) * (1-p + p * exp(-t/b)))\n",
    "display(L)\n",
    "#%\n",
    "display(simplify(diff(L,b)))\n",
    "#%\n",
    "display(simplify(diff((L),b).replace(r,1)))\n",
    "#%\n",
    "display(simplify(diff((L),b).replace(r,0)))"
   ],
   "metadata": {
    "collapsed": false,
    "pycharm": {
     "name": "#%%\n",
     "is_executing": false
    }
   }
  },
  {
   "cell_type": "code",
   "execution_count": 43,
   "outputs": [
    {
     "data": {
      "text/plain": "                    r                             \n         ⎛      -t ⎞                         1 - r\n         ⎜      ───⎟  ⎛              -t     ⎞     \n         ⎜       β ⎟  ⎜              ───    ⎟     \n         ⎜P(B)⋅ℯ   ⎟  ⎜               β     ⎟     \nP(R|t) = ⎜─────────⎟ ⋅⎝-P(B) + P(B)⋅ℯ    + 1⎠     \n         ⎝    β    ⎠                              ",
      "text/latex": "$\\displaystyle P(R|t) = \\left(\\frac{P(B) e^{- \\frac{t}{\\beta}}}{\\beta}\\right)^{r} \\left(- P(B) + P(B) e^{- \\frac{t}{\\beta}} + 1\\right)^{1 - r}$"
     },
     "metadata": {},
     "output_type": "display_data"
    },
    {
     "data": {
      "text/plain": "  ⎛                                                       r⎞\n  ⎜                                      1 - r ⎛      -t ⎞ ⎟\n  ⎜         ⎛⎛                   t⎞  -t ⎞      ⎜      ───⎟ ⎟\n  ⎜         ⎜⎜                   ─⎟  ───⎟      ⎜       β ⎟ ⎟\n∂ ⎜         ⎜⎜                   β⎟   β ⎟      ⎜P(B)⋅ℯ   ⎟ ⎟\n──⎜P(R|t) = ⎝⎝P(B) + (1 - P(B))⋅ℯ ⎠⋅ℯ   ⎠     ⋅⎜─────────⎟ ⎟\n∂β⎝                                            ⎝    β    ⎠ ⎠",
      "text/latex": "$\\displaystyle \\frac{\\partial}{\\partial \\beta} P(R|t) = \\left(\\left(P(B) + \\left(1 - P(B)\\right) e^{\\frac{t}{\\beta}}\\right) e^{- \\frac{t}{\\beta}}\\right)^{1 - r} \\left(\\frac{P(B) e^{- \\frac{t}{\\beta}}}{\\beta}\\right)^{r}$"
     },
     "metadata": {},
     "output_type": "display_data"
    },
    {
     "data": {
      "text/plain": "  ⎛               -t ⎞\n  ⎜               ───⎟\n  ⎜                β ⎟\n∂ ⎜         P(B)⋅ℯ   ⎟\n──⎜P(R|t) = ─────────⎟\n∂β⎝             β    ⎠",
      "text/latex": "$\\displaystyle \\frac{\\partial}{\\partial \\beta} P(R|t) = \\frac{P(B) e^{- \\frac{t}{\\beta}}}{\\beta}$"
     },
     "metadata": {},
     "output_type": "display_data"
    },
    {
     "data": {
      "text/plain": "  ⎛                       -t     ⎞\n  ⎜                       ───    ⎟\n∂ ⎜                        β     ⎟\n──⎝P(R|t) = -P(B) + P(B)⋅ℯ    + 1⎠\n∂β                                ",
      "text/latex": "$\\displaystyle \\frac{\\partial}{\\partial \\beta} P(R|t) = - P(B) + P(B) e^{- \\frac{t}{\\beta}} + 1$"
     },
     "metadata": {},
     "output_type": "display_data"
    }
   ],
   "source": [
    "# pr = r * (p * exp(-t/b)/b) +  (1-r) * (1-p + p * exp(-t/b))\n",
    "PR = Eq(pr, (p * exp(-t/b)/b)**r * (1-p + p * exp(-t/b))**(1-r))\n",
    "display(PR)\n",
    "#%\n",
    "display(simplify(diff(PR,b)))\n",
    "#%\n",
    "display(simplify(diff((PR),b).replace(r,1)))\n",
    "#%\n",
    "display(simplify(diff((PR),b).replace(r,0)))"
   ],
   "metadata": {
    "collapsed": false,
    "pycharm": {
     "name": "#%%\n",
     "is_executing": false
    }
   }
  },
  {
   "cell_type": "code",
   "execution_count": 69,
   "outputs": [
    {
     "data": {
      "text/plain": "   ⎛           r                             ⎞\n   ⎜⎛      -t ⎞                         1 - r⎟\n   ⎜⎜      ───⎟  ⎛              -t     ⎞     ⎟\n   ⎜⎜       β ⎟  ⎜              ───    ⎟     ⎟\n   ⎜⎜P(B)⋅ℯ   ⎟  ⎜               β     ⎟     ⎟\nlog⎜⎜─────────⎟ ⋅⎝-P(B) + P(B)⋅ℯ    + 1⎠     ⎟\n   ⎝⎝    β    ⎠                              ⎠",
      "text/latex": "$\\displaystyle \\log{\\left(\\left(\\frac{P(B) e^{- \\frac{t}{\\beta}}}{\\beta}\\right)^{r} \\left(- P(B) + P(B) e^{- \\frac{t}{\\beta}} + 1\\right)^{1 - r} \\right)}$"
     },
     "metadata": {},
     "output_type": "display_data"
    },
    {
     "data": {
      "text/plain": "            t                        t                 t        t\n            ─                        ─                 ─        ─\n            β                        β                 β        β\n- P(B)⋅β⋅r⋅ℯ  + P(B)⋅β⋅r + P(B)⋅r⋅t⋅ℯ  - P(B)⋅t + β⋅r⋅ℯ  - r⋅t⋅ℯ \n─────────────────────────────────────────────────────────────────\n                        ⎛      t           t⎞                    \n                        ⎜      ─           ─⎟                    \n                      2 ⎜      β           β⎟                    \n                     β ⋅⎝P(B)⋅ℯ  - P(B) - ℯ ⎠                    ",
      "text/latex": "$\\displaystyle \\frac{- P(B) \\beta r e^{\\frac{t}{\\beta}} + P(B) \\beta r + P(B) r t e^{\\frac{t}{\\beta}} - P(B) t + \\beta r e^{\\frac{t}{\\beta}} - r t e^{\\frac{t}{\\beta}}}{\\beta^{2} \\left(P(B) e^{\\frac{t}{\\beta}} - P(B) - e^{\\frac{t}{\\beta}}\\right)}$"
     },
     "metadata": {},
     "output_type": "display_data"
    },
    {
     "data": {
      "text/plain": "-β + t\n──────\n   2  \n  β   ",
      "text/latex": "$\\displaystyle \\frac{- \\beta + t}{\\beta^{2}}$"
     },
     "metadata": {},
     "output_type": "display_data"
    },
    {
     "data": {
      "text/plain": "          P(B)⋅t         \n─────────────────────────\n   ⎛                   t⎞\n   ⎜                   ─⎟\n 2 ⎜                   β⎟\nβ ⋅⎝P(B) + (1 - P(B))⋅ℯ ⎠",
      "text/latex": "$\\displaystyle \\frac{P(B) t}{\\beta^{2} \\left(P(B) + \\left(1 - P(B)\\right) e^{\\frac{t}{\\beta}}\\right)}$"
     },
     "metadata": {},
     "output_type": "display_data"
    }
   ],
   "source": [
    "# pr = r * (p * exp(-t/b)/b) +  (1-r) * (1-p + p * exp(-t/b))\n",
    "# L = Eq(l,log(r * (p * exp(-t/b)/b) +  (1-r) * (1-p + p * exp(-t/b))))\n",
    "L = log((p * exp(-t/b)/b)**r * (1-p + p * exp(-t/b))**(1-r))\n",
    "display(L)\n",
    "#%\n",
    "display(simplify(diff(L,b)))\n",
    "#%\n",
    "display(simplify(diff((L),b).replace(r,1)))\n",
    "\n",
    "display(simplify(diff((L),b).replace(r,0)))"
   ],
   "metadata": {
    "collapsed": false,
    "pycharm": {
     "name": "#%%\n",
     "is_executing": false
    }
   }
  },
  {
   "cell_type": "code",
   "execution_count": 67,
   "outputs": [
    {
     "name": "stdout",
     "text": [
      "(-P(B)*beta*r*math.exp(t/beta) + P(B)*beta*r + P(B)*r*t*math.exp(t/beta) - P(B)*t + beta*r*math.exp(t/beta) - r*t*math.exp(t/beta))/(beta**2*(P(B)*math.exp(t/beta) - P(B) - math.exp(t/beta)))\n(-beta + t)/beta**2\nP(B)*t/(beta**2*(P(B) + (1 - P(B))*math.exp(t/beta)))\n"
     ],
     "output_type": "stream"
    }
   ],
   "source": [
    "print(printing.pycode(simplify(diff((L),b))))\n",
    "\n",
    "print(printing.pycode(simplify(diff((L),b).replace(r,1))))\n",
    "#%\n",
    "print(printing.pycode(simplify(diff((L),b).replace(r,0))))"
   ],
   "metadata": {
    "collapsed": false,
    "pycharm": {
     "name": "#%%\n",
     "is_executing": false
    }
   }
  },
  {
   "cell_type": "code",
   "execution_count": 45,
   "outputs": [],
   "source": [
    "# diff(log(p/b),b)\n",
    "# "
   ],
   "metadata": {
    "collapsed": false,
    "pycharm": {
     "name": "#%%\n",
     "is_executing": false
    }
   }
  },
  {
   "cell_type": "code",
   "execution_count": 46,
   "outputs": [],
   "source": [
    "# L = log(pr)\n",
    "# display(L)\n",
    "# #%\n",
    "# display(diff(L,b))\n",
    "# #%\n",
    "# # display(simplify(diff((L,b).replace(r,1)))\n",
    "# # #%\n",
    "# # display(simplify(diff((L),b).replace(r,0)))\n",
    "# "
   ],
   "metadata": {
    "collapsed": false,
    "pycharm": {
     "name": "#%%\n",
     "is_executing": false
    }
   }
  },
  {
   "cell_type": "code",
   "execution_count": 47,
   "outputs": [],
   "source": [
    "# l = log(pr)\n",
    "# diff(l,b)"
   ],
   "metadata": {
    "collapsed": false,
    "pycharm": {
     "name": "#%%\n",
     "is_executing": false
    }
   }
  },
  {
   "cell_type": "code",
   "execution_count": 48,
   "outputs": [],
   "source": [
    "# diff(L,b)"
   ],
   "metadata": {
    "collapsed": false,
    "pycharm": {
     "name": "#%%\n",
     "is_executing": false
    }
   }
  },
  {
   "cell_type": "code",
   "execution_count": 49,
   "outputs": [],
   "source": [
    "# simplify(diff(PR,b))"
   ],
   "metadata": {
    "collapsed": false,
    "pycharm": {
     "name": "#%%\n",
     "is_executing": false
    }
   }
  },
  {
   "cell_type": "code",
   "execution_count": 50,
   "outputs": [],
   "source": [
    "# simplify(diff((PR),b).replace(r,1))"
   ],
   "metadata": {
    "collapsed": false,
    "pycharm": {
     "name": "#%%\n",
     "is_executing": false
    }
   }
  },
  {
   "cell_type": "code",
   "execution_count": 51,
   "outputs": [],
   "source": [
    "# simplify(diff((PR),b).replace(r,0))\n",
    "# \n",
    "# \n",
    "# "
   ],
   "metadata": {
    "collapsed": false,
    "pycharm": {
     "name": "#%%\n",
     "is_executing": false
    }
   }
  },
  {
   "cell_type": "code",
   "execution_count": 52,
   "outputs": [],
   "source": [
    "# log(PR2)#.replace(r,0)"
   ],
   "metadata": {
    "collapsed": false,
    "pycharm": {
     "name": "#%%\n",
     "is_executing": false
    }
   }
  },
  {
   "cell_type": "code",
   "execution_count": 53,
   "outputs": [],
   "source": [
    "# simplify(diff(log(PR2),b).replace(r,1))"
   ],
   "metadata": {
    "collapsed": false,
    "pycharm": {
     "name": "#%%\n",
     "is_executing": false
    }
   }
  },
  {
   "cell_type": "code",
   "execution_count": 54,
   "outputs": [],
   "source": [
    "# simplify(diff(log(PR2),b).replace(r,0))"
   ],
   "metadata": {
    "collapsed": false,
    "pycharm": {
     "name": "#%%\n",
     "is_executing": false
    }
   }
  },
  {
   "cell_type": "code",
   "execution_count": 55,
   "outputs": [],
   "source": [
    "# simplify(diff((PR2),b).replace(r,1))"
   ],
   "metadata": {
    "collapsed": false,
    "pycharm": {
     "name": "#%%\n",
     "is_executing": false
    }
   }
  },
  {
   "cell_type": "code",
   "execution_count": 56,
   "outputs": [],
   "source": [
    "# simplify(diff((PR2),b).replace(r,0))\n",
    "# \n",
    "# "
   ],
   "metadata": {
    "collapsed": false,
    "pycharm": {
     "name": "#%%\n",
     "is_executing": false
    }
   }
  },
  {
   "cell_type": "code",
   "execution_count": 57,
   "outputs": [],
   "source": [
    "# simplify(diff(PR,b))"
   ],
   "metadata": {
    "collapsed": false,
    "pycharm": {
     "name": "#%%\n",
     "is_executing": false
    }
   }
  },
  {
   "cell_type": "code",
   "execution_count": 58,
   "outputs": [],
   "source": [
    "# simplify(diff(PR,b)/ (p * exp(-t/b) / b**3))"
   ],
   "metadata": {
    "collapsed": false,
    "pycharm": {
     "name": "#%%\n",
     "is_executing": false
    }
   }
  },
  {
   "cell_type": "code",
   "execution_count": 59,
   "outputs": [],
   "source": [
    "# simplify(diff(PR,b)/ ((1-r)))\n",
    "# "
   ],
   "metadata": {
    "collapsed": false,
    "pycharm": {
     "name": "#%%\n",
     "is_executing": false
    }
   }
  },
  {
   "cell_type": "code",
   "execution_count": 60,
   "outputs": [],
   "source": [
    "# PR2 = (p * exp(-t/b)/b)**r * (1-p + p * exp(-t/b))**(1-r)\n",
    "# PR2\n",
    "# \n",
    "# \n",
    "# "
   ],
   "metadata": {
    "collapsed": false,
    "pycharm": {
     "name": "#%%\n",
     "is_executing": false
    }
   }
  },
  {
   "cell_type": "code",
   "execution_count": 61,
   "outputs": [],
   "source": [
    "# # solve(diff(PR,b),r)\n"
   ],
   "metadata": {
    "collapsed": false,
    "pycharm": {
     "name": "#%%\n",
     "is_executing": false
    }
   }
  }
 ],
 "metadata": {
  "language_info": {
   "codemirror_mode": {
    "name": "ipython",
    "version": 2
   },
   "file_extension": ".py",
   "mimetype": "text/x-python",
   "name": "python",
   "nbconvert_exporter": "python",
   "pygments_lexer": "ipython2",
   "version": "2.7.6"
  },
  "kernelspec": {
   "name": "python3",
   "language": "python",
   "display_name": "Python 3"
  },
  "pycharm": {
   "stem_cell": {
    "cell_type": "raw",
    "source": [],
    "metadata": {
     "collapsed": false
    }
   }
  }
 },
 "nbformat": 4,
 "nbformat_minor": 0
}